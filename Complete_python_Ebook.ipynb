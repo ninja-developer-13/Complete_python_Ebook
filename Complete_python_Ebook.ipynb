{
 "cells": [
  {
   "cell_type": "markdown",
   "id": "45e13190-f92e-4cca-9cb2-90c14e333abd",
   "metadata": {},
   "source": [
    "# Python Examples"
   ]
  },
  {
   "cell_type": "markdown",
   "id": "47eb40fb-0af1-4427-b5e4-ffa488684347",
   "metadata": {},
   "source": [
    "## 1.Python Syntax"
   ]
  },
  {
   "cell_type": "markdown",
   "id": "3b87f8b6-a182-48e9-9f57-fea39b460d01",
   "metadata": {},
   "source": [
    "### 1.1.Print Hello World"
   ]
  },
  {
   "cell_type": "code",
   "execution_count": 38,
   "id": "5b1b3279-eeea-4089-a1a4-6fd8760d4b1a",
   "metadata": {},
   "outputs": [
    {
     "name": "stdout",
     "output_type": "stream",
     "text": [
      "Hello World\n"
     ]
    }
   ],
   "source": [
    "print(\"Hello World\")"
   ]
  },
  {
   "cell_type": "markdown",
   "id": "007c54d9-0126-4722-a55b-c1e4f49dee77",
   "metadata": {},
   "source": [
    "### 1.2.Comments in Python"
   ]
  },
  {
   "cell_type": "code",
   "execution_count": 54,
   "id": "0b7c65ff-b604-4548-bf6b-730751bd4bc1",
   "metadata": {},
   "outputs": [],
   "source": [
    "#this is single comment in python"
   ]
  },
  {
   "cell_type": "markdown",
   "id": "e330241c-bdc0-482a-947c-3e1e5cf57357",
   "metadata": {},
   "source": [
    "### 1.3 Docstrings in python"
   ]
  },
  {
   "cell_type": "code",
   "execution_count": 50,
   "id": "0b3bc02e-c4c1-4616-bda5-5a38feff96d4",
   "metadata": {},
   "outputs": [
    {
     "name": "stdout",
     "output_type": "stream",
     "text": [
      "Hello world\n"
     ]
    }
   ],
   "source": [
    "\"\"\" \n",
    "this is python \"\"\"\n",
    "print(\"Hello world\")"
   ]
  },
  {
   "cell_type": "markdown",
   "id": "bb24d1f5-6528-49a6-90be-cdd65fb6ba4d",
   "metadata": {},
   "source": [
    "## 2.Python Variables"
   ]
  },
  {
   "cell_type": "markdown",
   "id": "dfde1061-b801-48b3-b6b2-48ffcd812f65",
   "metadata": {},
   "source": [
    "### 2.1 Create a variable and output variable"
   ]
  },
  {
   "cell_type": "code",
   "execution_count": 61,
   "id": "708c8989-a507-4906-9cd3-07e71c38c584",
   "metadata": {},
   "outputs": [
    {
     "name": "stdout",
     "output_type": "stream",
     "text": [
      "The sum of x and y is: 30\n"
     ]
    }
   ],
   "source": [
    "x = 10\n",
    "y = 20\n",
    "z = x+y\n",
    "print(\"The sum of x and y is:\",z)"
   ]
  },
  {
   "cell_type": "markdown",
   "id": "8ebdc2b9-fc2a-45c7-aecf-c9f7c2d62dad",
   "metadata": {},
   "source": [
    "## 3.Python Numbers"
   ]
  },
  {
   "cell_type": "markdown",
   "id": "ef770901-256e-4445-b1f6-4f1196c5f23e",
   "metadata": {},
   "source": [
    "### 3.1 Verify the type of an object"
   ]
  },
  {
   "cell_type": "code",
   "execution_count": 70,
   "id": "c58b08e4-e3eb-4e69-8d9d-f767fb06f8c2",
   "metadata": {},
   "outputs": [
    {
     "name": "stdout",
     "output_type": "stream",
     "text": [
      "x's type: <class 'int'>\n",
      "y's type: <class 'str'>\n",
      "z's type: <class 'bool'>\n",
      "a's type: <class 'float'>\n",
      "b's type: <class 'float'>\n",
      "c's type: <class 'float'>\n"
     ]
    }
   ],
   "source": [
    "x = 10\n",
    "y = \"praba\"\n",
    "z = True\n",
    "a = 11.2\n",
    "b = 12E4\n",
    "c = 12e3\n",
    "print(\"x's type:\", type(x))\n",
    "print(\"y's type:\", type(y))\n",
    "print(\"z's type:\", type(z))\n",
    "print(\"a's type:\", type(a))\n",
    "print(\"b's type:\", type(b))\n",
    "print(\"c's type:\", type(c))"
   ]
  },
  {
   "cell_type": "markdown",
   "id": "e0a7f39c-a5bd-4142-8aaa-4806644e2900",
   "metadata": {},
   "source": [
    "### 3.2. Complex numbers"
   ]
  },
  {
   "cell_type": "code",
   "execution_count": 73,
   "id": "660b0a90-e00b-4916-8ad2-5f228ff0dec8",
   "metadata": {},
   "outputs": [
    {
     "name": "stdout",
     "output_type": "stream",
     "text": [
      "<class 'complex'>\n",
      "<class 'complex'>\n",
      "<class 'complex'>\n"
     ]
    }
   ],
   "source": [
    "x = 5j\n",
    "y = 2+8j\n",
    "z = -4j\n",
    "print(type(x))\n",
    "print(type(y))\n",
    "print(type(z))\n"
   ]
  },
  {
   "cell_type": "markdown",
   "id": "90363871-04a2-4c0a-bdb6-f37f5c49098e",
   "metadata": {},
   "source": [
    "### 3.3 Casting "
   ]
  },
  {
   "cell_type": "code",
   "execution_count": 91,
   "id": "7ecd6780-7969-4cd7-9044-3e208a6ca135",
   "metadata": {},
   "outputs": [
    {
     "name": "stdout",
     "output_type": "stream",
     "text": [
      "2\n",
      "1111\n",
      "11.0\n",
      "<class 'int'>\n",
      "<class 'str'>\n",
      "<class 'float'>\n"
     ]
    }
   ],
   "source": [
    "x = int(2.1)\n",
    "y = str(1111)\n",
    "z = float('11')\n",
    "print(x)\n",
    "print(y)\n",
    "print(z)\n",
    "print(type(x))\n",
    "print(type(y))\n",
    "print(type(z))"
   ]
  },
  {
   "cell_type": "markdown",
   "id": "8d6faf0c-c294-44ba-be97-8fc0a9028cde",
   "metadata": {},
   "source": [
    "## 4. Python Strings"
   ]
  },
  {
   "cell_type": "markdown",
   "id": "5d6ee6dd-372c-4ef2-9186-49d1c2f920cc",
   "metadata": {},
   "source": [
    "#### Get the character at position 1 of a string"
   ]
  },
  {
   "cell_type": "code",
   "execution_count": 97,
   "id": "5cd22087-4f6e-4c41-9ccb-ca0155275ae4",
   "metadata": {},
   "outputs": [
    {
     "name": "stdout",
     "output_type": "stream",
     "text": [
      "r\n"
     ]
    }
   ],
   "source": [
    "myStr = 'prabakaran'\n",
    "print(myStr[1])\n",
    "#1 st index is r"
   ]
  },
  {
   "cell_type": "markdown",
   "id": "c0ee09a7-2bad-40ec-b03f-ebe709944a68",
   "metadata": {},
   "source": [
    "#### Substring get the characters from position 2 to 5"
   ]
  },
  {
   "cell_type": "code",
   "execution_count": 100,
   "id": "e55780e7-a5c1-4c22-9719-71c01205bf14",
   "metadata": {},
   "outputs": [
    {
     "name": "stdout",
     "output_type": "stream",
     "text": [
      "aba\n"
     ]
    }
   ],
   "source": [
    "print(myStr[2:5])"
   ]
  },
  {
   "cell_type": "markdown",
   "id": "0bde2799-fdf5-4597-972b-0ee598d61bec",
   "metadata": {},
   "source": [
    "#### Remove the whitespace from the string"
   ]
  },
  {
   "cell_type": "code",
   "execution_count": 109,
   "id": "1acb2c08-e067-4e32-8c5c-83b0384ab934",
   "metadata": {},
   "outputs": [
    {
     "name": "stdout",
     "output_type": "stream",
     "text": [
      "hello how are you\n"
     ]
    }
   ],
   "source": [
    "myStr = \"\"\"        \n",
    "hello how are you                \"\"\"\n",
    "print(myStr.strip())"
   ]
  },
  {
   "cell_type": "markdown",
   "id": "dd590ac2-8e53-457d-9095-e2d5e1811b24",
   "metadata": {},
   "source": [
    "#### Return length of the string"
   ]
  },
  {
   "cell_type": "code",
   "execution_count": 116,
   "id": "2f3640e7-ebb2-4751-99f4-ad1808e88e6b",
   "metadata": {},
   "outputs": [
    {
     "name": "stdout",
     "output_type": "stream",
     "text": [
      "42\n"
     ]
    }
   ],
   "source": [
    "print(len(myStr))\n",
    "#with space every space considered character"
   ]
  },
  {
   "cell_type": "code",
   "execution_count": 118,
   "id": "8229d7af-f419-43c8-90bc-ce41b08694e2",
   "metadata": {},
   "outputs": [
    {
     "name": "stdout",
     "output_type": "stream",
     "text": [
      "17\n"
     ]
    }
   ],
   "source": [
    "print(len(myStr.strip()))\n",
    "#after removing space"
   ]
  },
  {
   "cell_type": "markdown",
   "id": "89ee287e-663d-4df0-8477-02f03f639e78",
   "metadata": {},
   "source": [
    "#### connvert string to upper and lower"
   ]
  },
  {
   "cell_type": "code",
   "execution_count": 123,
   "id": "2d3245d5-7ed1-4764-9bf5-4dbe686bde5a",
   "metadata": {},
   "outputs": [
    {
     "name": "stdout",
     "output_type": "stream",
     "text": [
      "reference site about lorem ipsum, giving in\n",
      "REFERENCE SITE ABOUT LOREM IPSUM, GIVING IN\n",
      "Reference site about lorem ipsum, giving in\n"
     ]
    }
   ],
   "source": [
    "myStr = \"Reference site about Lorem Ipsum, giving in\"\n",
    "print(myStr.lower())\n",
    "print(myStr.upper())\n",
    "print(myStr.capitalize())"
   ]
  },
  {
   "cell_type": "markdown",
   "id": "d5883e24-4e36-4537-a29a-35832c856948",
   "metadata": {},
   "source": [
    "#### Replace string with another string"
   ]
  },
  {
   "cell_type": "code",
   "execution_count": 126,
   "id": "acb6ef84-a0d8-4fb5-b119-09ee6deaa28d",
   "metadata": {},
   "outputs": [
    {
     "name": "stdout",
     "output_type": "stream",
     "text": [
      "Jello, World!\n"
     ]
    }
   ],
   "source": [
    "a = \"Hello, World!\"\n",
    "print(a.replace(\"H\", \"J\"))\n"
   ]
  },
  {
   "cell_type": "markdown",
   "id": "58f0f79a-1f9b-452b-b731-b313c4089677",
   "metadata": {},
   "source": [
    "#### Split strings into substrings"
   ]
  },
  {
   "cell_type": "code",
   "execution_count": 129,
   "id": "d6487422-0f88-4c4a-b64d-91edfef39ef1",
   "metadata": {},
   "outputs": [
    {
     "name": "stdout",
     "output_type": "stream",
     "text": [
      "['Hello', ' World!']\n"
     ]
    }
   ],
   "source": [
    "a = \"Hello, World!\"\n",
    "b = a.split(\",\")\n",
    "print(b)\n"
   ]
  },
  {
   "cell_type": "markdown",
   "id": "0113c70e-0400-410f-96d1-2330a0fd09d8",
   "metadata": {},
   "source": [
    "## 5. Python Operators"
   ]
  },
  {
   "cell_type": "code",
   "execution_count": 133,
   "id": "3548af3c-000b-4349-b081-8e14d4166b2a",
   "metadata": {},
   "outputs": [
    {
     "name": "stdout",
     "output_type": "stream",
     "text": [
      "1123\n",
      "1099\n",
      "13332\n",
      "92.58333333333333\n",
      "92\n",
      "7\n",
      "5\n"
     ]
    }
   ],
   "source": [
    "a = 1111\n",
    "b = 12\n",
    "#addition +\n",
    "print(a+b)\n",
    "\n",
    "#subtraction -\n",
    "print(a-b)\n",
    "\n",
    "#multiplication *\n",
    "print(a*b)\n",
    "\n",
    "#divison /\n",
    "print(a/b)\n",
    "\n",
    "#floor division //\n",
    "print(a//b)\n",
    "\n",
    "#modulous %\n",
    "print(a%b)\n",
    "\n",
    "#assignment =\n",
    "x = 5\n",
    "print(x)\n",
    "\n"
   ]
  },
  {
   "cell_type": "markdown",
   "id": "ab6cba82-a3fe-455b-b300-3cf09ee7f10b",
   "metadata": {},
   "source": [
    "## 6. Python Lists"
   ]
  },
  {
   "cell_type": "markdown",
   "id": "b3fbd57a-1ffc-4199-af5b-e3676e97f617",
   "metadata": {},
   "source": [
    "#### Create a List and access list"
   ]
  },
  {
   "cell_type": "code",
   "execution_count": 141,
   "id": "13f1f065-76c1-4e8d-84c9-1a842c884394",
   "metadata": {},
   "outputs": [
    {
     "name": "stdout",
     "output_type": "stream",
     "text": [
      "[1, 2, 3, 4, 4, 4]\n",
      "2\n"
     ]
    }
   ],
   "source": [
    "myList = [1,2,3,4,4,4]\n",
    "print(myList)\n",
    "print(myList[1])"
   ]
  },
  {
   "cell_type": "markdown",
   "id": "1c41f662-2508-4fae-8bef-620e894a3724",
   "metadata": {},
   "source": [
    "### Change the value of list"
   ]
  },
  {
   "cell_type": "code",
   "execution_count": 144,
   "id": "a005b95c-7bd2-4275-a0b7-473132ce1bbe",
   "metadata": {},
   "outputs": [
    {
     "name": "stdout",
     "output_type": "stream",
     "text": [
      "[1, 112121, 3, 4, 4, 4]\n"
     ]
    }
   ],
   "source": [
    "myList[1] = 112121\n",
    "print(myList)"
   ]
  },
  {
   "cell_type": "markdown",
   "id": "1608478e-d729-4ced-b600-387ed7835db4",
   "metadata": {},
   "source": [
    "#### Loop through the list"
   ]
  },
  {
   "cell_type": "markdown",
   "id": "e707a04f-ceff-4936-9212-1da2e2757851",
   "metadata": {},
   "source": [
    "for i in myList:\n",
    "    print(i)"
   ]
  },
  {
   "cell_type": "markdown",
   "id": "696c1a7a-4772-44cd-aeb4-07cc8232fa0d",
   "metadata": {},
   "source": [
    "#### check if a list item exist"
   ]
  },
  {
   "cell_type": "code",
   "execution_count": 158,
   "id": "12b710a3-cbb4-4b22-82c9-2144fc4949ad",
   "metadata": {},
   "outputs": [
    {
     "name": "stdout",
     "output_type": "stream",
     "text": [
      "1 exists in the list\n"
     ]
    }
   ],
   "source": [
    "if 1 in myList:\n",
    "    print(\"1 exists in the list\")"
   ]
  },
  {
   "cell_type": "markdown",
   "id": "dacfa4b8-ffb0-4289-9546-3ec773ad557d",
   "metadata": {},
   "source": [
    "#### length of List"
   ]
  },
  {
   "cell_type": "code",
   "execution_count": 161,
   "id": "88670c55-54ae-48d2-ac37-c2b040df902a",
   "metadata": {},
   "outputs": [
    {
     "name": "stdout",
     "output_type": "stream",
     "text": [
      "6\n"
     ]
    }
   ],
   "source": [
    "print(len(myList))"
   ]
  },
  {
   "cell_type": "markdown",
   "id": "4314a38c-5778-46f0-8a3d-4a92f108d77b",
   "metadata": {},
   "source": [
    "#### add an item at the end of the list\n",
    "#### its surrounded by []\n",
    "Lists are mutable. it means once its created it can be modified. ordered, allowed duplicate values. allowed all types values."
   ]
  },
  {
   "cell_type": "code",
   "execution_count": 164,
   "id": "683c881e-f230-4a04-8196-33d1c2abcb0a",
   "metadata": {},
   "outputs": [
    {
     "name": "stdout",
     "output_type": "stream",
     "text": [
      "[1, 112121, 3, 4, 4, 4, 12121212]\n"
     ]
    }
   ],
   "source": [
    "myList.append(12121212)\n",
    "print(myList)"
   ]
  },
  {
   "cell_type": "markdown",
   "id": "611a155f-c0ee-4867-a0fd-f5c8250dbd68",
   "metadata": {},
   "source": [
    "#### add an item at the specific place of the list"
   ]
  },
  {
   "cell_type": "code",
   "execution_count": 169,
   "id": "ae979a9e-3b81-4245-90c1-292f69c966e0",
   "metadata": {},
   "outputs": [
    {
     "name": "stdout",
     "output_type": "stream",
     "text": [
      "[1, 112121, 3, 1043, 4, 4, 4, 12121212]\n"
     ]
    }
   ],
   "source": [
    "myList.insert(3, 1043)\n",
    "print(myList)"
   ]
  },
  {
   "cell_type": "markdown",
   "id": "840e35d4-b160-4f65-8f6c-e8659346cf81",
   "metadata": {},
   "source": [
    "#### remove an item from the list"
   ]
  },
  {
   "cell_type": "code",
   "execution_count": 175,
   "id": "bf78c4da-08bd-4315-b168-e9e7367dc3e2",
   "metadata": {},
   "outputs": [
    {
     "name": "stdout",
     "output_type": "stream",
     "text": [
      "['banana', 'mango', 'cherry']\n"
     ]
    }
   ],
   "source": [
    "thislist = [\"apple\", \"banana\", \"cherry\"]\n",
    "thislist.remove(\"apple\")\n",
    "thislist.insert(1, \"mango\")\n",
    "print(thislist)"
   ]
  },
  {
   "cell_type": "markdown",
   "id": "f11f1145-8d25-488a-9b63-3b3e85f71001",
   "metadata": {},
   "source": [
    "#### Remove the last item from the list"
   ]
  },
  {
   "cell_type": "code",
   "execution_count": 178,
   "id": "0ebb9db7-2835-4316-99d5-772d9801c9e6",
   "metadata": {},
   "outputs": [
    {
     "name": "stdout",
     "output_type": "stream",
     "text": [
      "['banana', 'mango']\n"
     ]
    }
   ],
   "source": [
    "thislist.pop()\n",
    "print(thislist)"
   ]
  },
  {
   "cell_type": "markdown",
   "id": "2361b6b4-b0dd-4321-8c42-f850b4935431",
   "metadata": {},
   "source": [
    "#### remove the specified index"
   ]
  },
  {
   "cell_type": "code",
   "execution_count": 181,
   "id": "430abd46-f4d0-45aa-88eb-ebacde7b417f",
   "metadata": {},
   "outputs": [
    {
     "name": "stdout",
     "output_type": "stream",
     "text": [
      "['mango']\n"
     ]
    }
   ],
   "source": [
    "del thislist[0]\n",
    "print(thislist)"
   ]
  },
  {
   "cell_type": "markdown",
   "id": "c01ded1a-c5b5-453d-8c0e-947185862560",
   "metadata": {},
   "source": [
    "#### How to empty a List"
   ]
  },
  {
   "cell_type": "code",
   "execution_count": 184,
   "id": "674b44b3-4a76-4000-949f-746f278e064b",
   "metadata": {},
   "outputs": [
    {
     "name": "stdout",
     "output_type": "stream",
     "text": [
      "[]\n",
      "[]\n"
     ]
    }
   ],
   "source": [
    "thislist.clear()\n",
    "myList.clear()\n",
    "print(myList)\n",
    "print(thislist)"
   ]
  },
  {
   "cell_type": "markdown",
   "id": "0e28f46c-404e-40f3-96f9-d5590d528ca0",
   "metadata": {},
   "source": [
    "#### Prepare a new list using list() constructor"
   ]
  },
  {
   "cell_type": "code",
   "execution_count": 211,
   "id": "1d6f3753-ab9b-40d8-9bd9-ab80b5cc69e8",
   "metadata": {},
   "outputs": [
    {
     "name": "stdout",
     "output_type": "stream",
     "text": [
      "['apple', 'ball', 'kiwi', 'jackfruit', 1, 2, True, False, 5j, -1, 120000.0, 320000.0, (2+8j), (-0-98j)]\n",
      "14\n"
     ]
    }
   ],
   "source": [
    "myList = list((\"apple\", \"ball\", \"kiwi\", \"jackfruit\", 1, 2, True, False, 5j, -1, 12E4, 32e4, 2+8j, -98j))\n",
    "print(myList)\n",
    "print(len(myList))"
   ]
  },
  {
   "cell_type": "markdown",
   "id": "61cd4b32-3d66-4d46-9a12-2212ab96f386",
   "metadata": {},
   "source": [
    "## 7.Python Tuples"
   ]
  },
  {
   "cell_type": "markdown",
   "id": "31d37322-9fb9-4ee0-a062-2678237b6bf0",
   "metadata": {},
   "source": [
    "#### create a tuple and access tuple get length of tuple\n",
    "#### Its surrounded by ()\n",
    "Tuples are immutable. it means once its created it cannot be modified. ordered, allowed duplicate values. allowed all types values."
   ]
  },
  {
   "cell_type": "code",
   "execution_count": 242,
   "id": "a7804270-16c5-45ca-9bdb-705eae6318fe",
   "metadata": {},
   "outputs": [
    {
     "name": "stdout",
     "output_type": "stream",
     "text": [
      "(1, 2, 3, 4, 5, 6, 7, 8, 'apple', True, False, 5j, -1, 120000.0, 320000.0, (2+8j), (-0-98j), [1, 2, 3], {'name': 'praba'}, (12, 24))\n",
      "20\n"
     ]
    }
   ],
   "source": [
    "myTuple = (1,2,3,4,5,6,7,8, \"apple\", True, False, 5j, -1, 12E4, 32e4, 2+8j, -98j, [1,2,3], {\"name\":\"praba\"}, (12,24))\n",
    "print(myTuple)\n",
    "print(len(myTuple))"
   ]
  },
  {
   "cell_type": "markdown",
   "id": "2466d521-c2e3-407b-991c-5dd41b767052",
   "metadata": {},
   "source": [
    "#### Change the tuple values   'tuple' object does not support item assignment"
   ]
  },
  {
   "cell_type": "code",
   "execution_count": 245,
   "id": "b06547a1-7d8a-4c6d-80fd-b15cf23e9038",
   "metadata": {},
   "outputs": [
    {
     "ename": "TypeError",
     "evalue": "'tuple' object does not support item assignment",
     "output_type": "error",
     "traceback": [
      "\u001b[0;31m---------------------------------------------------------------------------\u001b[0m",
      "\u001b[0;31mTypeError\u001b[0m                                 Traceback (most recent call last)",
      "Cell \u001b[0;32mIn[245], line 1\u001b[0m\n\u001b[0;32m----> 1\u001b[0m myTuple[\u001b[38;5;241m1\u001b[39m] \u001b[38;5;241m=\u001b[39m \u001b[38;5;241m12121212\u001b[39m\n\u001b[1;32m      2\u001b[0m \u001b[38;5;28mprint\u001b[39m(myTuple)\n",
      "\u001b[0;31mTypeError\u001b[0m: 'tuple' object does not support item assignment"
     ]
    }
   ],
   "source": [
    "myTuple[1] = 12121212\n",
    "print(myTuple)\n",
    "#'tuple' object does not support item assignment"
   ]
  },
  {
   "cell_type": "markdown",
   "id": "b5ee3231-d81c-47cd-b7ab-40e6ee3ff172",
   "metadata": {},
   "source": [
    "#### how to loop through tuple "
   ]
  },
  {
   "cell_type": "code",
   "execution_count": 248,
   "id": "734d2bde-2bf3-4711-b934-e94591e04b75",
   "metadata": {},
   "outputs": [
    {
     "name": "stdout",
     "output_type": "stream",
     "text": [
      "1\n",
      "2\n",
      "3\n",
      "4\n",
      "5\n",
      "6\n",
      "7\n",
      "8\n",
      "apple\n",
      "True\n",
      "False\n",
      "5j\n",
      "-1\n",
      "120000.0\n",
      "320000.0\n",
      "(2+8j)\n",
      "(-0-98j)\n",
      "[1, 2, 3]\n",
      "{'name': 'praba'}\n",
      "(12, 24)\n"
     ]
    }
   ],
   "source": [
    "for i in myTuple:\n",
    "    print(i)"
   ]
  },
  {
   "cell_type": "markdown",
   "id": "32929dd7-9ec4-4ab2-9c16-ef4128d86151",
   "metadata": {},
   "source": [
    "#### how to check if a tuple exists"
   ]
  },
  {
   "cell_type": "code",
   "execution_count": 258,
   "id": "3f0fc0ff-91fd-4d0b-8aa1-3ddbda1e0c9f",
   "metadata": {},
   "outputs": [
    {
     "name": "stdout",
     "output_type": "stream",
     "text": [
      "exists\n"
     ]
    }
   ],
   "source": [
    "if \"apple\" in myTuple:\n",
    "    print(\"exists\")"
   ]
  },
  {
   "cell_type": "markdown",
   "id": "7f579378-2f74-4554-8790-d5b50b1d15c0",
   "metadata": {},
   "source": [
    "#### length of tuple "
   ]
  },
  {
   "cell_type": "code",
   "execution_count": 261,
   "id": "3461412c-06cc-4f49-8319-b4b670a860ab",
   "metadata": {},
   "outputs": [
    {
     "name": "stdout",
     "output_type": "stream",
     "text": [
      "20\n"
     ]
    }
   ],
   "source": [
    "print(len(myTuple))"
   ]
  },
  {
   "cell_type": "markdown",
   "id": "93ebcdb9-e438-4dc6-b36a-96cfe88f0d99",
   "metadata": {},
   "source": [
    "#### Delete a tuple"
   ]
  },
  {
   "cell_type": "code",
   "execution_count": 264,
   "id": "10b38d92-037e-4515-b8e1-3d29bd551d61",
   "metadata": {},
   "outputs": [
    {
     "ename": "NameError",
     "evalue": "name 'myTuple' is not defined",
     "output_type": "error",
     "traceback": [
      "\u001b[0;31m---------------------------------------------------------------------------\u001b[0m",
      "\u001b[0;31mNameError\u001b[0m                                 Traceback (most recent call last)",
      "Cell \u001b[0;32mIn[264], line 2\u001b[0m\n\u001b[1;32m      1\u001b[0m \u001b[38;5;28;01mdel\u001b[39;00m myTuple\n\u001b[0;32m----> 2\u001b[0m \u001b[38;5;28mprint\u001b[39m(myTuple)\n",
      "\u001b[0;31mNameError\u001b[0m: name 'myTuple' is not defined"
     ]
    }
   ],
   "source": [
    "del myTuple\n",
    "print(myTuple)"
   ]
  },
  {
   "cell_type": "markdown",
   "id": "ad0bb2de-7f83-4939-b04d-a000a2f7331f",
   "metadata": {},
   "source": [
    "#### Create a new tuple using tuple() constructor"
   ]
  },
  {
   "cell_type": "code",
   "execution_count": 267,
   "id": "55e7c489-d3e4-4e11-9941-39386d528096",
   "metadata": {},
   "outputs": [
    {
     "name": "stdout",
     "output_type": "stream",
     "text": [
      "('praba', 'karan', 'amma', 'praga', 'dhana', 'appa', 'kutty')\n"
     ]
    }
   ],
   "source": [
    "myTuple = (\"praba\", \"karan\", \"amma\", \"praga\", \"dhana\", \"appa\", \"kutty\")\n",
    "print(myTuple)"
   ]
  },
  {
   "cell_type": "markdown",
   "id": "6b017cb7-88ae-43cb-91d1-51463cf8ecd1",
   "metadata": {},
   "source": [
    "#### Remove last element from tuple"
   ]
  },
  {
   "cell_type": "markdown",
   "id": "3eccb197-98eb-479c-b0f2-3c63e87564a9",
   "metadata": {},
   "source": [
    "#### We can Convert to list, remove last element, convert back to tuple"
   ]
  },
  {
   "cell_type": "code",
   "execution_count": 275,
   "id": "6424665a-a99f-4e5b-a96a-ab42b97068b1",
   "metadata": {},
   "outputs": [
    {
     "name": "stdout",
     "output_type": "stream",
     "text": [
      "('praba', 'karan', 'amma', 'praga', 'dhana', 'appa')\n"
     ]
    }
   ],
   "source": [
    "myTuple = tuple(list(myTuple)[:-1])\n",
    "print(myTuple)"
   ]
  },
  {
   "cell_type": "markdown",
   "id": "78cdf282-7ae1-4706-b688-7ba3c481a68b",
   "metadata": {},
   "source": [
    "## 8.Python Sets"
   ]
  },
  {
   "cell_type": "markdown",
   "id": "e76899d3-b87c-4ca2-8aa7-57beacf35cef",
   "metadata": {},
   "source": [
    "#### Sets are surrounded by \"{ }\"\n",
    "#### Set is a collection which is unordered, unchangeable*, and unindexed. No duplicate members."
   ]
  },
  {
   "cell_type": "markdown",
   "id": "bc67d98b-d981-47f4-bb35-c10a93c40ee3",
   "metadata": {},
   "source": [
    "#### Create a set and access set"
   ]
  },
  {
   "cell_type": "code",
   "execution_count": 383,
   "id": "bf0b73a7-cba0-494d-837f-cedc60770b7f",
   "metadata": {},
   "outputs": [
    {
     "name": "stdout",
     "output_type": "stream",
     "text": [
      "{False, 'ab', 2, 1, 'hello', 3, 'cd', 120000.0, (-0-9j), 'bc', -1}\n"
     ]
    }
   ],
   "source": [
    "mySet = {\"ab\", \"bc\",\"cd\", \"hello\", 1,2,3,-1,True,False,12E4, -9j}\n",
    "print(mySet)"
   ]
  },
  {
   "cell_type": "markdown",
   "id": "715dad05-3817-40c8-a123-94de07aa9c76",
   "metadata": {},
   "source": [
    "#### Loop through a set"
   ]
  },
  {
   "cell_type": "code",
   "execution_count": 386,
   "id": "0d291215-224c-4268-86a5-be653e628224",
   "metadata": {},
   "outputs": [
    {
     "name": "stdout",
     "output_type": "stream",
     "text": [
      "False\n",
      "ab\n",
      "2\n",
      "1\n",
      "hello\n",
      "3\n",
      "cd\n",
      "120000.0\n",
      "(-0-9j)\n",
      "bc\n",
      "-1\n"
     ]
    }
   ],
   "source": [
    "for i in mySet:\n",
    "    print(i)"
   ]
  },
  {
   "cell_type": "markdown",
   "id": "00a6e54a-76ba-4348-90d0-5c86ff753b97",
   "metadata": {},
   "source": [
    "#### check if item exists in set"
   ]
  },
  {
   "cell_type": "code",
   "execution_count": 389,
   "id": "05204da5-1c9f-4299-b839-998b738289ea",
   "metadata": {},
   "outputs": [
    {
     "name": "stdout",
     "output_type": "stream",
     "text": [
      "exists\n"
     ]
    }
   ],
   "source": [
    "if 'ab' in mySet:\n",
    "    print(\"exists\")"
   ]
  },
  {
   "cell_type": "markdown",
   "id": "7e5cb0eb-b8d1-4680-84ec-e53df489a539",
   "metadata": {},
   "source": [
    "#### Add item to set and get the length of set"
   ]
  },
  {
   "cell_type": "code",
   "execution_count": 392,
   "id": "95b03537-343f-4076-a4c9-b21c532d1e8e",
   "metadata": {},
   "outputs": [
    {
     "name": "stdout",
     "output_type": "stream",
     "text": [
      "{False, 'ab', 2, 1, 'hello', 3, 'cd', 120000.0, (-0-9j), 'bc', -1}\n"
     ]
    }
   ],
   "source": [
    "mySet.add(\"hello\")\n",
    "print(mySet)\n",
    "#this will not allow duplicates. it will display only one hello."
   ]
  },
  {
   "cell_type": "code",
   "execution_count": 394,
   "id": "d2ec7780-fbc2-4caa-bc2d-96c33e34bb8f",
   "metadata": {},
   "outputs": [
    {
     "name": "stdout",
     "output_type": "stream",
     "text": [
      "{False, 'ab', 2, 1, 'hello', 3, 'cd', 120000.0, (-0-9j), 'orange', 'mango', 'bc', 'grapes', -1}\n"
     ]
    }
   ],
   "source": [
    "#### Add multiple items to set\n",
    "mySet.update([\"orange\", \"mango\", \"grapes\"])\n",
    "print(mySet)"
   ]
  },
  {
   "cell_type": "code",
   "execution_count": 396,
   "id": "6081baad-278f-47c8-95d5-b032dfeb43f3",
   "metadata": {},
   "outputs": [
    {
     "name": "stdout",
     "output_type": "stream",
     "text": [
      "14\n"
     ]
    }
   ],
   "source": [
    "print(len(mySet))"
   ]
  },
  {
   "cell_type": "markdown",
   "id": "5a6376fe-5aaf-452b-b010-51f6ad313f99",
   "metadata": {},
   "source": [
    "#### Remove item from set"
   ]
  },
  {
   "cell_type": "markdown",
   "id": "d5a841e1-fb0a-45bd-b55a-d77a446c4536",
   "metadata": {},
   "source": [
    "#### Sets can be removed by using these methods remove('add specific index'), discard('add specific index'), pop() => remove last item"
   ]
  },
  {
   "cell_type": "code",
   "execution_count": 400,
   "id": "d71a62f2-3b1e-4c93-ba2a-3eb297b374d7",
   "metadata": {},
   "outputs": [
    {
     "name": "stdout",
     "output_type": "stream",
     "text": [
      "{False, 2, 1, 'hello', 3, 'cd', 120000.0, (-0-9j), 'orange', 'mango', 'bc', 'grapes', -1}\n"
     ]
    }
   ],
   "source": [
    "mySet.remove(\"ab\")\n",
    "print(mySet)"
   ]
  },
  {
   "cell_type": "code",
   "execution_count": 402,
   "id": "5cd5192d-32f2-412d-9ec7-90c98c27f668",
   "metadata": {},
   "outputs": [
    {
     "name": "stdout",
     "output_type": "stream",
     "text": [
      "{2, 1, 'hello', 3, 'cd', 120000.0, (-0-9j), 'orange', 'mango', 'bc', 'grapes', -1}\n"
     ]
    }
   ],
   "source": [
    "mySet.pop()\n",
    "print(mySet)"
   ]
  },
  {
   "cell_type": "code",
   "execution_count": 404,
   "id": "2ecc3900-bb42-4a6f-ad94-57b3e607de1c",
   "metadata": {},
   "outputs": [
    {
     "name": "stdout",
     "output_type": "stream",
     "text": [
      "{2, 1, 'hello', 3, 120000.0, (-0-9j), 'orange', 'mango', 'bc', 'grapes', -1}\n"
     ]
    }
   ],
   "source": [
    "mySet.discard(\"cd\")\n",
    "print(mySet)"
   ]
  },
  {
   "cell_type": "code",
   "execution_count": 406,
   "id": "934ccb1d-4076-414f-bd9f-d1e94ebf9553",
   "metadata": {},
   "outputs": [
    {
     "name": "stdout",
     "output_type": "stream",
     "text": [
      "set()\n"
     ]
    }
   ],
   "source": [
    "#### Empty a set using clear method\n",
    "mySet.clear()\n",
    "print(mySet)"
   ]
  },
  {
   "cell_type": "code",
   "execution_count": 408,
   "id": "238d7a91-a4be-45ad-a29a-05e7be3a4d7d",
   "metadata": {},
   "outputs": [
    {
     "name": "stdout",
     "output_type": "stream",
     "text": [
      "{'grapes', 'orange', 'mango'}\n"
     ]
    }
   ],
   "source": [
    "mySet.update([\"orange\", \"mango\", \"grapes\"])\n",
    "print(mySet)"
   ]
  },
  {
   "cell_type": "markdown",
   "id": "1ab44c91-d3e0-488f-962d-b16df27a2536",
   "metadata": {},
   "source": [
    "#### Delete a set"
   ]
  },
  {
   "cell_type": "code",
   "execution_count": 411,
   "id": "6a033018-38fb-4d6d-a855-fd54fa85be10",
   "metadata": {},
   "outputs": [
    {
     "name": "stdout",
     "output_type": "stream",
     "text": [
      "before delete {'grapes', 'orange', 'mango'}\n"
     ]
    },
    {
     "ename": "NameError",
     "evalue": "name 'mySet' is not defined",
     "output_type": "error",
     "traceback": [
      "\u001b[0;31m---------------------------------------------------------------------------\u001b[0m",
      "\u001b[0;31mNameError\u001b[0m                                 Traceback (most recent call last)",
      "Cell \u001b[0;32mIn[411], line 3\u001b[0m\n\u001b[1;32m      1\u001b[0m \u001b[38;5;28mprint\u001b[39m(\u001b[38;5;124m\"\u001b[39m\u001b[38;5;124mbefore delete\u001b[39m\u001b[38;5;124m\"\u001b[39m, mySet)\n\u001b[1;32m      2\u001b[0m \u001b[38;5;28;01mdel\u001b[39;00m mySet\n\u001b[0;32m----> 3\u001b[0m \u001b[38;5;28mprint\u001b[39m(mySet)\n",
      "\u001b[0;31mNameError\u001b[0m: name 'mySet' is not defined"
     ]
    }
   ],
   "source": [
    "print(\"before delete\", mySet)\n",
    "del mySet\n",
    "print(mySet)"
   ]
  },
  {
   "cell_type": "markdown",
   "id": "a4f0521a-cc0b-4820-a415-27caebe63411",
   "metadata": {},
   "source": [
    "#### Make a new set using set() constructor"
   ]
  },
  {
   "cell_type": "code",
   "execution_count": 433,
   "id": "a3ae6f35-d467-4f1f-b139-27c63ef9f283",
   "metadata": {},
   "outputs": [
    {
     "name": "stdout",
     "output_type": "stream",
     "text": [
      "{1, 2, 3}\n"
     ]
    }
   ],
   "source": [
    "f = 1\n",
    "g = 2\n",
    "h = 3\n",
    "mySet = set((f,g,h))\n",
    "print(mySet)"
   ]
  },
  {
   "cell_type": "markdown",
   "id": "a1bd5960-165d-4c31-beaa-afb3430651fb",
   "metadata": {},
   "source": [
    "## Python Dictionaries"
   ]
  },
  {
   "cell_type": "markdown",
   "id": "eb1f967c-9366-4154-8a88-cd8f8715b191",
   "metadata": {},
   "source": [
    "#### 9. Create Dictionaries and access Dictionaries"
   ]
  },
  {
   "cell_type": "markdown",
   "id": "15b428f9-08b2-40ba-82a9-51826d03b47c",
   "metadata": {},
   "source": [
    "#### Dictionaries will be key and value pair. surrounded by { } \n",
    "#### Dictionary is a collection which is ordered** and changeable. No duplicate members."
   ]
  },
  {
   "cell_type": "code",
   "execution_count": 442,
   "id": "36ec66c4-0c65-4fe0-bcd5-93f24fdbfdce",
   "metadata": {},
   "outputs": [
    {
     "name": "stdout",
     "output_type": "stream",
     "text": [
      "{'name': 'praba', 'age': 32, 'place': 'bangalore'}\n"
     ]
    }
   ],
   "source": [
    "myDict = {\n",
    "    \"name\": \"praba\",\n",
    "    \"age\":32,\n",
    "    \"place\":\"bangalore\"\n",
    "}\n",
    "print(myDict)"
   ]
  },
  {
   "cell_type": "markdown",
   "id": "3139a112-18e3-42f1-82ed-f34c6465ee78",
   "metadata": {},
   "source": [
    "#### change the value of specific item in dict"
   ]
  },
  {
   "cell_type": "code",
   "execution_count": 446,
   "id": "5dfc1c9e-b2e3-4fcc-a8f1-e722575decc4",
   "metadata": {},
   "outputs": [
    {
     "name": "stdout",
     "output_type": "stream",
     "text": [
      "{'name': 'praba', 'age': 32, 'place': 'chennai'}\n"
     ]
    }
   ],
   "source": [
    "myDict['place'] = 'chennai'\n",
    "print(myDict)"
   ]
  },
  {
   "cell_type": "markdown",
   "id": "4fccfb8e-c36f-4aa7-93f9-d3c79e3498ea",
   "metadata": {},
   "source": [
    "#### print all keys from dict"
   ]
  },
  {
   "cell_type": "code",
   "execution_count": 461,
   "id": "6c9334d7-cf87-480a-b497-d231c61680ea",
   "metadata": {},
   "outputs": [
    {
     "name": "stdout",
     "output_type": "stream",
     "text": [
      "dict_keys(['name', 'age', 'place'])\n",
      "name\n",
      "age\n",
      "place\n"
     ]
    }
   ],
   "source": [
    "print(myDict.keys())\n",
    "#without inbuilt function\n",
    "for i in myDict:\n",
    "    print(i)"
   ]
  },
  {
   "cell_type": "markdown",
   "id": "b1159f16-5c01-45aa-858b-11885bff5d40",
   "metadata": {},
   "source": [
    "#### Print all values from dict"
   ]
  },
  {
   "cell_type": "code",
   "execution_count": 463,
   "id": "3bc673af-8fec-4d69-b063-e4ae7ab033c0",
   "metadata": {},
   "outputs": [
    {
     "name": "stdout",
     "output_type": "stream",
     "text": [
      "dict_values(['praba', 32, 'chennai'])\n",
      "praba\n",
      "32\n",
      "chennai\n"
     ]
    }
   ],
   "source": [
    "print(myDict.values())\n",
    "#without inbuilt function\n",
    "for i in myDict:\n",
    "    print(myDict[i])"
   ]
  },
  {
   "cell_type": "markdown",
   "id": "5e62fc69-770a-4f3d-92b4-24476abd84e9",
   "metadata": {},
   "source": [
    "#### Using items"
   ]
  },
  {
   "cell_type": "code",
   "execution_count": 466,
   "id": "5017b007-c3ec-4c8b-8baf-7059d4108997",
   "metadata": {},
   "outputs": [
    {
     "name": "stdout",
     "output_type": "stream",
     "text": [
      "name => praba\n",
      "age => 32\n",
      "place => chennai\n"
     ]
    }
   ],
   "source": [
    "for x,y in myDict.items():\n",
    "    print(x,\"=>\",y)"
   ]
  },
  {
   "cell_type": "markdown",
   "id": "e414603c-6af8-4bdb-9c8d-77eccbf1fcab",
   "metadata": {},
   "source": [
    "#### Check if key is exists"
   ]
  },
  {
   "cell_type": "code",
   "execution_count": 470,
   "id": "b8278f3b-8a73-4c87-94a6-762b6b7b44b2",
   "metadata": {},
   "outputs": [
    {
     "name": "stdout",
     "output_type": "stream",
     "text": [
      "exists\n"
     ]
    }
   ],
   "source": [
    "if 'name' in myDict:\n",
    "    print(\"exists\")"
   ]
  },
  {
   "cell_type": "markdown",
   "id": "5b371113-3f84-495c-8372-b054cad65d8b",
   "metadata": {},
   "source": [
    "#### Length of Dictionary"
   ]
  },
  {
   "cell_type": "code",
   "execution_count": 473,
   "id": "beb2b566-0132-499b-a67e-be4937bde733",
   "metadata": {},
   "outputs": [
    {
     "name": "stdout",
     "output_type": "stream",
     "text": [
      "3\n"
     ]
    }
   ],
   "source": [
    "print(len(myDict))"
   ]
  },
  {
   "cell_type": "markdown",
   "id": "f14a1c74-fb10-4baf-87ec-9279d6369083",
   "metadata": {},
   "source": [
    "#### Add item to Dictionary"
   ]
  },
  {
   "cell_type": "code",
   "execution_count": 476,
   "id": "c2cb15ea-ee87-467e-bffc-766ce1b4f051",
   "metadata": {},
   "outputs": [
    {
     "name": "stdout",
     "output_type": "stream",
     "text": [
      "{'name': 'praba', 'age': 32, 'place': 'chennai', 'state': 'Tamilnadu'}\n"
     ]
    }
   ],
   "source": [
    "myDict[\"state\"] = \"Tamilnadu\"\n",
    "print(myDict)"
   ]
  },
  {
   "cell_type": "markdown",
   "id": "c0209259-d3b8-4cbe-b98b-85fed9c105c9",
   "metadata": {},
   "source": [
    "#### Remove item from Dictionary"
   ]
  },
  {
   "cell_type": "code",
   "execution_count": 479,
   "id": "00130e63-212c-4b81-940e-698c8daeb912",
   "metadata": {},
   "outputs": [
    {
     "name": "stdout",
     "output_type": "stream",
     "text": [
      "{'age': 32, 'place': 'chennai', 'state': 'Tamilnadu'}\n"
     ]
    }
   ],
   "source": [
    "myDict.pop('name')\n",
    "print(myDict)"
   ]
  },
  {
   "cell_type": "markdown",
   "id": "27b31a87-6ec2-405d-a92e-b228efa942ed",
   "metadata": {},
   "source": [
    "#### How to empty dictionary"
   ]
  },
  {
   "cell_type": "code",
   "execution_count": 482,
   "id": "32a0b4f9-4624-43e4-b730-40945320e4a7",
   "metadata": {},
   "outputs": [
    {
     "name": "stdout",
     "output_type": "stream",
     "text": [
      "{}\n"
     ]
    }
   ],
   "source": [
    "myDict.clear()\n",
    "print(myDict)"
   ]
  },
  {
   "cell_type": "markdown",
   "id": "2517c47a-fd62-4b7d-a434-a0d9030800ba",
   "metadata": {},
   "source": [
    "#### Create a new dictionary using dict() constructor"
   ]
  },
  {
   "cell_type": "code",
   "execution_count": 485,
   "id": "bd4bd096-2b44-47aa-a47f-99ea628e121b",
   "metadata": {},
   "outputs": [
    {
     "name": "stdout",
     "output_type": "stream",
     "text": [
      "{'name': 'praba', 'country': 'india', 'age': 33, 'pincode': '560303'}\n"
     ]
    }
   ],
   "source": [
    "myDict = dict(name=\"praba\", country=\"india\", age=33, pincode=\"560303\")\n",
    "print(myDict)"
   ]
  },
  {
   "cell_type": "markdown",
   "id": "3d8b7351-fc7a-4620-934e-f8317b9a48ad",
   "metadata": {},
   "source": [
    "## If statement"
   ]
  },
  {
   "cell_type": "markdown",
   "id": "71757919-4d0e-48de-aac7-3902fd19127a",
   "metadata": {},
   "source": [
    "#### If elif else"
   ]
  },
  {
   "cell_type": "code",
   "execution_count": 489,
   "id": "cfe2feda-816e-4ead-8c4e-60e14a32dec2",
   "metadata": {},
   "outputs": [
    {
     "name": "stdout",
     "output_type": "stream",
     "text": [
      "14\n"
     ]
    }
   ],
   "source": [
    "a = 10\n",
    "b = 12\n",
    "c = 14\n",
    "if a>b and b>c:\n",
    "    largest = a\n",
    "elif b>a and b>c:\n",
    "    largest = b\n",
    "else:\n",
    "    largest = c\n",
    "print(largest)"
   ]
  },
  {
   "cell_type": "markdown",
   "id": "b2fbbeb5-66c6-4bc0-8582-7174a74214b1",
   "metadata": {},
   "source": [
    "#### Shorthand If elif else"
   ]
  },
  {
   "cell_type": "code",
   "execution_count": 509,
   "id": "c6e5e061-eed4-43a0-84df-1bfaf5475cb6",
   "metadata": {},
   "outputs": [
    {
     "name": "stdout",
     "output_type": "stream",
     "text": [
      "C is larger\n"
     ]
    }
   ],
   "source": [
    "print('A is larger' if a > b and a > c else 'B is larger' if b > a and b > c else 'C is larger')\n"
   ]
  },
  {
   "cell_type": "code",
   "execution_count": 511,
   "id": "2f9bbae3-6d17-42b1-9052-fef030a8949f",
   "metadata": {},
   "outputs": [
    {
     "name": "stdout",
     "output_type": "stream",
     "text": [
      "At least one of the conditions is True\n"
     ]
    }
   ],
   "source": [
    "a = 200\n",
    "b = 33\n",
    "c = 500\n",
    "if a > b or a > c:\n",
    "  print(\"At least one of the conditions is True\")\n"
   ]
  },
  {
   "cell_type": "markdown",
   "id": "8756ba7c-0c5b-4e2a-af8c-ff65d35724e4",
   "metadata": {},
   "source": [
    "## Python While Loop"
   ]
  },
  {
   "cell_type": "code",
   "execution_count": 514,
   "id": "4a2471d5-61f1-4821-b205-c535757251c9",
   "metadata": {},
   "outputs": [
    {
     "name": "stdout",
     "output_type": "stream",
     "text": [
      "1\n",
      "2\n",
      "3\n",
      "4\n"
     ]
    }
   ],
   "source": [
    "i = 1\n",
    "while i < 5:\n",
    "    print(i)\n",
    "    i += 1"
   ]
  },
  {
   "cell_type": "markdown",
   "id": "26187808-c17c-415f-a827-6ad0702d09a9",
   "metadata": {},
   "source": [
    "#### Use break statement in while. Basically break will terminate the execution of while loop"
   ]
  },
  {
   "cell_type": "code",
   "execution_count": 7,
   "id": "6da2fdb1-6941-4a70-9f86-205511745a19",
   "metadata": {},
   "outputs": [
    {
     "name": "stdout",
     "output_type": "stream",
     "text": [
      "1\n",
      "2\n",
      "3\n"
     ]
    }
   ],
   "source": [
    "i = 1\n",
    "while i < 5:\n",
    "  print(i)\n",
    "  if (i == 3):\n",
    "    break\n",
    "  i += 1\n"
   ]
  },
  {
   "cell_type": "markdown",
   "id": "72838908-b72e-4ea3-a15e-fe38f3a98862",
   "metadata": {},
   "source": [
    "#### Use continue statement in while. Basically continue will skip the current  the iteration of while loop"
   ]
  },
  {
   "cell_type": "code",
   "execution_count": 9,
   "id": "333de22a-9cd1-4dda-bfeb-3a1bd0e6b5df",
   "metadata": {},
   "outputs": [
    {
     "name": "stdout",
     "output_type": "stream",
     "text": [
      "1\n",
      "2\n",
      "4\n",
      "5\n"
     ]
    }
   ],
   "source": [
    "i = 0\n",
    "while i < 5:\n",
    "  i += 1\n",
    "  if i == 3:\n",
    "    continue\n",
    "  print(i)"
   ]
  },
  {
   "cell_type": "markdown",
   "id": "b4f1d6e1-ebdf-4bf1-bb5f-f84421eb4db2",
   "metadata": {},
   "source": [
    "#### Using Python for Loop through List"
   ]
  },
  {
   "cell_type": "code",
   "execution_count": 12,
   "id": "12a61d86-0db9-40bf-8076-6c58571ff304",
   "metadata": {},
   "outputs": [
    {
     "name": "stdout",
     "output_type": "stream",
     "text": [
      "apple\n",
      "banana\n",
      "kiwi\n"
     ]
    }
   ],
   "source": [
    "myList = [\"apple\", \"banana\", \"kiwi\"]\n",
    "for i in myList:\n",
    "    print(i)"
   ]
  },
  {
   "cell_type": "markdown",
   "id": "ffe39be0-065e-49c7-b2bd-6ccc772864e1",
   "metadata": {},
   "source": [
    "#### Using Python for Loop through string"
   ]
  },
  {
   "cell_type": "code",
   "execution_count": 17,
   "id": "1949424c-6a21-48fb-a12c-ba35450ecadc",
   "metadata": {},
   "outputs": [
    {
     "name": "stdout",
     "output_type": "stream",
     "text": [
      "p\n",
      "r\n",
      "a\n",
      "b\n",
      "a\n",
      "k\n",
      "a\n",
      "r\n",
      "a\n",
      "n\n",
      " \n",
      "i\n",
      "s\n",
      " \n",
      "m\n",
      "y\n",
      " \n",
      "f\n",
      "i\n",
      "r\n",
      "s\n",
      "t\n",
      " \n",
      "n\n",
      "a\n",
      "m\n",
      "e\n"
     ]
    }
   ],
   "source": [
    "myStr = \"prabakaran is my first name\"\n",
    "for i in myStr:\n",
    "    print(i)"
   ]
  },
  {
   "cell_type": "markdown",
   "id": "455852f5-babb-4b83-acb7-05d6c0385c34",
   "metadata": {},
   "source": [
    "#### Use break statement in for loop"
   ]
  },
  {
   "cell_type": "code",
   "execution_count": 26,
   "id": "a92dcf3b-d393-4197-a337-29e0c4457152",
   "metadata": {},
   "outputs": [
    {
     "name": "stdout",
     "output_type": "stream",
     "text": [
      "p\n",
      "r\n"
     ]
    }
   ],
   "source": [
    "for i in myStr:\n",
    "    if i == 'a':\n",
    "        break\n",
    "    print(i)\n",
    "    "
   ]
  },
  {
   "cell_type": "code",
   "execution_count": 24,
   "id": "a7698c4c-3e33-461e-bafe-a24550d0096a",
   "metadata": {},
   "outputs": [
    {
     "name": "stdout",
     "output_type": "stream",
     "text": [
      "p\n",
      "r\n",
      "b\n",
      "k\n",
      "r\n",
      "n\n",
      " \n",
      "i\n",
      "s\n",
      " \n",
      "m\n",
      "y\n",
      " \n",
      "f\n",
      "i\n",
      "r\n",
      "s\n",
      "t\n",
      " \n",
      "n\n",
      "m\n",
      "e\n"
     ]
    }
   ],
   "source": [
    "for i in myStr:\n",
    "    if i == 'a':\n",
    "        continue\n",
    "    print(i)"
   ]
  },
  {
   "cell_type": "markdown",
   "id": "bd666431-c7ae-4003-9699-05bfe0d25762",
   "metadata": {},
   "source": [
    "#### Range in for loop"
   ]
  },
  {
   "cell_type": "code",
   "execution_count": 51,
   "id": "aea2858e-416f-44c3-aea7-d7190df896e9",
   "metadata": {},
   "outputs": [
    {
     "name": "stdout",
     "output_type": "stream",
     "text": [
      "Multiplication of 2nd table: 1 *2= 2\n",
      "Multiplication of 2nd table: 2 *2= 4\n",
      "Multiplication of 2nd table: 3 *2= 6\n",
      "Multiplication of 2nd table: 4 *2= 8\n",
      "Multiplication of 2nd table: 5 *2= 10\n",
      "Multiplication of 2nd table: 6 *2= 12\n",
      "Multiplication of 2nd table: 7 *2= 14\n",
      "Multiplication of 2nd table: 8 *2= 16\n",
      "Multiplication of 2nd table: 9 *2= 18\n",
      "Multiplication of 2nd table: 10 *2= 20\n",
      "Multiplication of 2nd table: 11 *2= 22\n",
      "Multiplication of 2nd table: 12 *2= 24\n",
      "Multiplication of 2nd table: 13 *2= 26\n",
      "Multiplication of 2nd table: 14 *2= 28\n",
      "Multiplication of 2nd table: 15 *2= 30\n",
      "Multiplication of 2nd table: 16 *2= 32\n",
      "Multiplication of 2nd table: 17 *2= 34\n",
      "Multiplication of 2nd table: 18 *2= 36\n",
      "Multiplication of 2nd table: 19 *2= 38\n",
      "Multiplication of 2nd table: 20 *2= 40\n"
     ]
    }
   ],
   "source": [
    "for i in range(1,21):\n",
    "    print(\"Multiplication of 2nd table:\",i,\"*2=\",i*2)"
   ]
  },
  {
   "cell_type": "markdown",
   "id": "c80d412a-9de0-4cd6-830d-96d2f6c4d30a",
   "metadata": {},
   "source": [
    "#### Nested loop in python"
   ]
  },
  {
   "cell_type": "code",
   "execution_count": 54,
   "id": "82496668-6ab3-4fc3-96e3-97c9256ae29a",
   "metadata": {},
   "outputs": [
    {
     "name": "stdout",
     "output_type": "stream",
     "text": [
      "red apple\n",
      "red banana\n",
      "red cherry\n",
      "big apple\n",
      "big banana\n",
      "big cherry\n",
      "tasty apple\n",
      "tasty banana\n",
      "tasty cherry\n"
     ]
    }
   ],
   "source": [
    "adj = [\"red\", \"big\", \"tasty\"]\n",
    "fruits = [\"apple\", \"banana\", \"cherry\"]\n",
    "\n",
    "for x in adj:\n",
    "  for y in fruits:\n",
    "    print(x, y)"
   ]
  },
  {
   "cell_type": "markdown",
   "id": "55c3c529-3687-42e7-a4b3-ef7e0ac16c29",
   "metadata": {},
   "source": [
    "## Python Functions"
   ]
  },
  {
   "cell_type": "markdown",
   "id": "0eb1f1f3-b65a-437a-8b14-b311b0011f56",
   "metadata": {},
   "source": [
    "#### Create and call a function with different parameters"
   ]
  },
  {
   "cell_type": "code",
   "execution_count": 72,
   "id": "80feecd8-5f3e-47c1-8481-f47f34b46941",
   "metadata": {},
   "outputs": [
    {
     "name": "stdout",
     "output_type": "stream",
     "text": [
      "[1, 2] (11, 12) {'name': 'praba', 'age': 32} {12000.0, 'bc', 'cd', 'ab'}\n"
     ]
    }
   ],
   "source": [
    "def myFunction(a,b,c,d):\n",
    "    print(a,b,c,d)\n",
    "myFunction([1,2], (11,12), {'name':'praba', 'age':32}, {12E3, 'ab', 'bc','cd'})\n"
   ]
  },
  {
   "cell_type": "markdown",
   "id": "cf23807c-592a-46cf-8084-771c1505f604",
   "metadata": {},
   "source": [
    "#### Default Parameter"
   ]
  },
  {
   "cell_type": "code",
   "execution_count": 76,
   "id": "2185a3db-6b66-481a-abe9-2919bba3fa53",
   "metadata": {},
   "outputs": [
    {
     "name": "stdout",
     "output_type": "stream",
     "text": [
      "I am from Karnataka\n",
      "I am from Andhra\n",
      "I am from TamilNadu\n",
      "I am from Kerala\n"
     ]
    }
   ],
   "source": [
    "def my_function(state = \"TamilNadu\"):\n",
    "  print(\"I am from \" + state)\n",
    "\n",
    "my_function(\"Karnataka\")\n",
    "my_function(\"Andhra\")\n",
    "my_function()\n",
    "my_function(\"Kerala\")\n"
   ]
  },
  {
   "cell_type": "markdown",
   "id": "62d630a7-ac6b-4372-b9fe-8fddcc71df1f",
   "metadata": {},
   "source": [
    "#### Rerurn value in a function"
   ]
  },
  {
   "cell_type": "code",
   "execution_count": 79,
   "id": "ee1bc889-464f-4a5f-8b1a-2fcb042d80ed",
   "metadata": {},
   "outputs": [
    {
     "name": "stdout",
     "output_type": "stream",
     "text": [
      "15\n",
      "25\n",
      "45\n"
     ]
    }
   ],
   "source": [
    "def my_function(x):\n",
    "  return 5 * x\n",
    "\n",
    "print(my_function(3))\n",
    "print(my_function(5))\n",
    "print(my_function(9))\n"
   ]
  },
  {
   "cell_type": "markdown",
   "id": "1e14a1d4-8fb8-492d-86e6-a4ed024283eb",
   "metadata": {},
   "source": [
    "#### using recursion function"
   ]
  },
  {
   "cell_type": "code",
   "execution_count": 82,
   "id": "ebe3e43f-47e9-446e-b34e-d60ec2054efc",
   "metadata": {},
   "outputs": [
    {
     "name": "stdout",
     "output_type": "stream",
     "text": [
      "120\n"
     ]
    }
   ],
   "source": [
    "def factorial(n):\n",
    "    # Base case: if n is 0 or 1, return 1\n",
    "    if n == 0 or n == 1:\n",
    "        return 1\n",
    "    else:\n",
    "        # Recursive case: n * factorial of (n-1)\n",
    "        return n * factorial(n - 1)\n",
    "\n",
    "# Example usage\n",
    "print(factorial(5))  # Output: 120\n"
   ]
  },
  {
   "cell_type": "markdown",
   "id": "800f70ab-4353-4d14-a95e-b743db4dc68a",
   "metadata": {},
   "source": [
    "## Python Lambda"
   ]
  },
  {
   "cell_type": "markdown",
   "id": "83173ff7-639f-4725-86e1-bbc921d8150a",
   "metadata": {},
   "source": [
    "#### A lambda function is a small anonymous function. A lambda function can take any number of arguments, but can only have one expression."
   ]
  },
  {
   "cell_type": "markdown",
   "id": "5eed2df9-cad1-4058-9c75-d03bf27aacf2",
   "metadata": {},
   "source": [
    "#### Perform addition, subtraction and multiplication using lambda function"
   ]
  },
  {
   "cell_type": "code",
   "execution_count": 95,
   "id": "75b11fec-7904-422e-823f-21e8f12f80d8",
   "metadata": {},
   "outputs": [
    {
     "name": "stdout",
     "output_type": "stream",
     "text": [
      "24\n",
      "-4\n",
      "140\n"
     ]
    }
   ],
   "source": [
    "a = lambda x,y: x+y\n",
    "print(a(10,14))\n",
    "\n",
    "b = lambda x,y: x-y\n",
    "print(b(10,14))\n",
    "\n",
    "c = lambda x,y: x*y\n",
    "print(c(10,14))"
   ]
  },
  {
   "cell_type": "markdown",
   "id": "3892b956-6422-48d5-8458-d402a34d8d0e",
   "metadata": {},
   "source": [
    "## Python Arrays"
   ]
  },
  {
   "cell_type": "markdown",
   "id": "85518997-b364-4108-b94a-abc148a93f6e",
   "metadata": {},
   "source": [
    "#### Create an array and access get lenth of an array"
   ]
  },
  {
   "cell_type": "code",
   "execution_count": 100,
   "id": "b20dd0fc-5d94-42ef-96c6-d16c235087a7",
   "metadata": {},
   "outputs": [
    {
     "name": "stdout",
     "output_type": "stream",
     "text": [
      "4\n",
      "['praba', 'karan', 'praga', 'vara']\n"
     ]
    }
   ],
   "source": [
    "myArray = [\"praba\", \"karan\", \"praga\", \"vara\"]\n",
    "print(len(myArray))\n",
    "print(myArray)"
   ]
  },
  {
   "cell_type": "markdown",
   "id": "3343a5fa-d415-4b06-bf01-b1eee507b895",
   "metadata": {},
   "source": [
    "#### Loop through an array"
   ]
  },
  {
   "cell_type": "code",
   "execution_count": 104,
   "id": "a998ff9a-9b27-4b63-ae85-5938247c88b8",
   "metadata": {},
   "outputs": [
    {
     "name": "stdout",
     "output_type": "stream",
     "text": [
      "praba\n",
      "karan\n",
      "praga\n",
      "vara\n"
     ]
    }
   ],
   "source": [
    "for i in myArray:\n",
    "    print(i)"
   ]
  },
  {
   "cell_type": "markdown",
   "id": "d397178c-1129-4bc5-adc3-0348f8d481d8",
   "metadata": {},
   "source": [
    "#### Add an element in an array"
   ]
  },
  {
   "cell_type": "code",
   "execution_count": 107,
   "id": "5e5b899f-143f-4e46-b609-3b7bb0073328",
   "metadata": {},
   "outputs": [
    {
     "name": "stdout",
     "output_type": "stream",
     "text": [
      "['praba', 'karan', 'praga', 'vara', 'dhanam']\n"
     ]
    }
   ],
   "source": [
    "myArray.append('dhanam')\n",
    "print(myArray)"
   ]
  },
  {
   "cell_type": "markdown",
   "id": "7cfd7bd7-0d68-488e-b79e-73e4b1d2c6f3",
   "metadata": {},
   "source": [
    "#### Remove element from an array"
   ]
  },
  {
   "cell_type": "code",
   "execution_count": 112,
   "id": "199b414b-d744-42c8-a0eb-36e3523e325c",
   "metadata": {},
   "outputs": [
    {
     "name": "stdout",
     "output_type": "stream",
     "text": [
      "['praba', 'praga', 'vara', 'dhanam']\n"
     ]
    }
   ],
   "source": [
    "myArray.pop(1)\n",
    "print(myArray)"
   ]
  },
  {
   "cell_type": "markdown",
   "id": "1c6a7945-62ac-496f-aba5-24e7388dc841",
   "metadata": {},
   "source": [
    "## Python Classes and Objects"
   ]
  },
  {
   "cell_type": "markdown",
   "id": "d36a63f6-de2b-4ad5-8c32-be29accc9a25",
   "metadata": {},
   "source": [
    "#### Create a class and create an object"
   ]
  },
  {
   "cell_type": "code",
   "execution_count": 130,
   "id": "5f68e5cf-ef9f-4204-bca6-064077e663dd",
   "metadata": {},
   "outputs": [
    {
     "name": "stdin",
     "output_type": "stream",
     "text": [
      "Enter any value praba\n"
     ]
    },
    {
     "name": "stdout",
     "output_type": "stream",
     "text": [
      "You have entered:  praba\n"
     ]
    }
   ],
   "source": [
    "inputVal = input(\"Enter any value: \")\n",
    "class MyClass:\n",
    "    def __init__(self, arg):\n",
    "        self.arg = arg\n",
    "    def getData(self):\n",
    "        return self.arg\n",
    "myObj = MyClass(inputVal)\n",
    "print(\"You have entered: \", myObj.getData())"
   ]
  },
  {
   "cell_type": "markdown",
   "id": "a5007464-b2c2-4a84-adb1-79248b95cb5b",
   "metadata": {},
   "source": [
    "#### modify the object property"
   ]
  },
  {
   "cell_type": "code",
   "execution_count": 132,
   "id": "8627ca73-24ca-4f8e-806b-89cd499a36fb",
   "metadata": {},
   "outputs": [
    {
     "name": "stdin",
     "output_type": "stream",
     "text": [
      "Enter any value 121212\n"
     ]
    },
    {
     "name": "stdout",
     "output_type": "stream",
     "text": [
      "You have entered:  you cant change any value since I am modified\n"
     ]
    }
   ],
   "source": [
    "\n",
    "inputVal = input(\"Enter any value: \")\n",
    "class MyClass:\n",
    "    def __init__(self, arg):\n",
    "        self.arg = arg\n",
    "    def getData(self):\n",
    "        return self.arg\n",
    "myObj = MyClass(inputVal)\n",
    "myObj.arg = \"you cant change any value since I am modified\"\n",
    "print(\"You have entered: \", myObj.getData())"
   ]
  },
  {
   "cell_type": "markdown",
   "id": "4f8d48eb-a1b3-45d9-a2a6-8dee27408ee9",
   "metadata": {},
   "source": [
    "#### delete the object property"
   ]
  },
  {
   "cell_type": "code",
   "execution_count": 142,
   "id": "d6dad6a3-0f36-4921-bf2b-799fa4b3cee4",
   "metadata": {},
   "outputs": [
    {
     "name": "stdin",
     "output_type": "stream",
     "text": [
      "Enter any value:  hellllllll\n"
     ]
    },
    {
     "name": "stdout",
     "output_type": "stream",
     "text": [
      "before deleting object:  you cant change any value since I am modified\n"
     ]
    },
    {
     "ename": "AttributeError",
     "evalue": "'MyClass' object has no attribute 'arg'",
     "output_type": "error",
     "traceback": [
      "\u001b[0;31m---------------------------------------------------------------------------\u001b[0m",
      "\u001b[0;31mAttributeError\u001b[0m                            Traceback (most recent call last)",
      "Cell \u001b[0;32mIn[142], line 11\u001b[0m\n\u001b[1;32m      9\u001b[0m \u001b[38;5;28mprint\u001b[39m(\u001b[38;5;124m\"\u001b[39m\u001b[38;5;124mbefore deleting object: \u001b[39m\u001b[38;5;124m\"\u001b[39m, myObj\u001b[38;5;241m.\u001b[39mgetData())\n\u001b[1;32m     10\u001b[0m \u001b[38;5;28;01mdel\u001b[39;00m myObj\u001b[38;5;241m.\u001b[39marg\n\u001b[0;32m---> 11\u001b[0m \u001b[38;5;28mprint\u001b[39m(\u001b[38;5;124m\"\u001b[39m\u001b[38;5;124mYou have entered: \u001b[39m\u001b[38;5;124m\"\u001b[39m, myObj\u001b[38;5;241m.\u001b[39mgetData())\n",
      "Cell \u001b[0;32mIn[142], line 6\u001b[0m, in \u001b[0;36mMyClass.getData\u001b[0;34m(self)\u001b[0m\n\u001b[1;32m      5\u001b[0m \u001b[38;5;28;01mdef\u001b[39;00m \u001b[38;5;21mgetData\u001b[39m(\u001b[38;5;28mself\u001b[39m):\n\u001b[0;32m----> 6\u001b[0m     \u001b[38;5;28;01mreturn\u001b[39;00m \u001b[38;5;28mself\u001b[39m\u001b[38;5;241m.\u001b[39marg\n",
      "\u001b[0;31mAttributeError\u001b[0m: 'MyClass' object has no attribute 'arg'"
     ]
    }
   ],
   "source": [
    "\n",
    "inputVal = input(\"Enter any value: \")\n",
    "class MyClass:\n",
    "    def __init__(self, arg):\n",
    "        self.arg = arg\n",
    "    def getData(self):\n",
    "        return self.arg\n",
    "myObj = MyClass(inputVal)\n",
    "myObj.arg = \"you cant change any value since I am modified\"\n",
    "print(\"before deleting object: \", myObj.getData())\n",
    "del myObj.arg\n",
    "print(\"You have entered: \", myObj.getData())\n",
    "#'MyClass' object has no attribute 'arg' because the object is no more."
   ]
  },
  {
   "cell_type": "markdown",
   "id": "50c8fd4c-70eb-4f0f-8507-07d645adeec2",
   "metadata": {},
   "source": [
    "#### Delete whole object from class"
   ]
  },
  {
   "cell_type": "code",
   "execution_count": 147,
   "id": "d9dfc552-8329-4bad-a6f8-ab6f6b767ae6",
   "metadata": {},
   "outputs": [
    {
     "name": "stdin",
     "output_type": "stream",
     "text": [
      "Enter any value:  1121\n"
     ]
    },
    {
     "name": "stdout",
     "output_type": "stream",
     "text": [
      "before deleting object:  you cant change any value since I am modified\n"
     ]
    },
    {
     "ename": "NameError",
     "evalue": "name 'myObj' is not defined",
     "output_type": "error",
     "traceback": [
      "\u001b[0;31m---------------------------------------------------------------------------\u001b[0m",
      "\u001b[0;31mNameError\u001b[0m                                 Traceback (most recent call last)",
      "Cell \u001b[0;32mIn[147], line 11\u001b[0m\n\u001b[1;32m      9\u001b[0m \u001b[38;5;28mprint\u001b[39m(\u001b[38;5;124m\"\u001b[39m\u001b[38;5;124mbefore deleting object: \u001b[39m\u001b[38;5;124m\"\u001b[39m, myObj\u001b[38;5;241m.\u001b[39mgetData())\n\u001b[1;32m     10\u001b[0m \u001b[38;5;28;01mdel\u001b[39;00m myObj\n\u001b[0;32m---> 11\u001b[0m \u001b[38;5;28mprint\u001b[39m(\u001b[38;5;124m\"\u001b[39m\u001b[38;5;124mYou have entered: \u001b[39m\u001b[38;5;124m\"\u001b[39m, myObj\u001b[38;5;241m.\u001b[39mgetData())\n",
      "\u001b[0;31mNameError\u001b[0m: name 'myObj' is not defined"
     ]
    }
   ],
   "source": [
    "inputVal = input(\"Enter any value: \")\n",
    "class MyClass:\n",
    "    def __init__(self, arg):\n",
    "        self.arg = arg\n",
    "    def getData(self):\n",
    "        return self.arg\n",
    "myObj = MyClass(inputVal)\n",
    "myObj.arg = \"you cant change any value since I am modified\"\n",
    "print(\"before deleting object: \", myObj.getData())\n",
    "del myObj\n",
    "print(\"You have entered: \", myObj.getData())\n",
    "#'MyClass' object has no attribute 'arg' because the object is no more."
   ]
  },
  {
   "cell_type": "markdown",
   "id": "bda0d552-f4a9-4420-ba25-b3dff77b53ce",
   "metadata": {},
   "source": [
    "#### Inheritance "
   ]
  },
  {
   "cell_type": "markdown",
   "id": "5d37079f-856b-43d8-b5f2-fd5f6a67fb41",
   "metadata": {},
   "source": [
    "##### Inheritance allows a class (called a subclass or derived class) to inherit attributes and methods from another class (called a superclass or base class). This promotes code reuse and establishes a relationship between classes."
   ]
  },
  {
   "cell_type": "code",
   "execution_count": 192,
   "id": "35832e67-87da-4c87-9601-5b1421fdba9c",
   "metadata": {},
   "outputs": [
    {
     "name": "stdout",
     "output_type": "stream",
     "text": [
      "Subramani naai kutty barks.\n",
      "Kanmani poona kutty meows.\n"
     ]
    }
   ],
   "source": [
    "# Parent class\n",
    "class Animal:\n",
    "    def __init__(self, name):\n",
    "        self.name = name\n",
    "    \n",
    "    def speak(self):\n",
    "        return f\"{self.name} makes a sound.\"\n",
    "\n",
    "# Child class\n",
    "class Dog(Animal):\n",
    "    def speak(self):\n",
    "        return f\"{self.name} barks.\"\n",
    "\n",
    "# Child class\n",
    "class Cat(Animal):\n",
    "    def speak(self):\n",
    "        return f\"{self.name} meows.\"\n",
    "\n",
    "# Creating instances\n",
    "dog = Dog(\"Subramani naai kutty\")\n",
    "cat = Cat(\"Kanmani poona kutty\")\n",
    "\n",
    "# Calling methods\n",
    "print(dog.speak())  # Output: Rex barks.\n",
    "print(cat.speak())  # Output: Whiskers meows.\n"
   ]
  },
  {
   "cell_type": "markdown",
   "id": "e4761185-77b3-4cf5-9973-e0a7bf3bbbda",
   "metadata": {},
   "source": [
    "## Polymorphism also knon as Method Overriding "
   ]
  },
  {
   "cell_type": "markdown",
   "id": "9c84eb20-a658-4051-8fe8-9ee96f3f0788",
   "metadata": {},
   "source": [
    "##### Method overriding allows a subclass to provide a specific implementation of a method that is already defined in its superclass. This is useful for modifying or extending the behavior of inherited methods. This will have same methods with same number of parameters"
   ]
  },
  {
   "cell_type": "markdown",
   "id": "af3dc66f-3965-438d-a761-c9879478498f",
   "metadata": {},
   "source": [
    "#### Polymorphism allows objects of different classes to be treated as objects of a common superclass. It enables method overriding, allowing the same method name to have different implementations based on the object’s class. Method Overriding\n"
   ]
  },
  {
   "cell_type": "code",
   "execution_count": 195,
   "id": "1a0bf441-9ed2-4b87-ad29-61c5541b52b8",
   "metadata": {},
   "outputs": [
    {
     "name": "stdout",
     "output_type": "stream",
     "text": [
      "The car is starting with a roar!\n",
      "The bicycle is starting quietly.\n"
     ]
    }
   ],
   "source": [
    "# Parent class\n",
    "class Vehicle:\n",
    "    def start(self):\n",
    "        return \"The vehicle is starting.\"\n",
    "\n",
    "# Child class\n",
    "class Car(Vehicle):\n",
    "    def start(self):\n",
    "        return \"The car is starting with a roar!\"\n",
    "\n",
    "# Child class\n",
    "class Bicycle(Vehicle):\n",
    "    def start(self):\n",
    "        return \"The bicycle is starting quietly.\"\n",
    "\n",
    "# Creating instances\n",
    "car = Car()\n",
    "bicycle = Bicycle()\n",
    "\n",
    "# Calling methods\n",
    "print(car.start())      \n",
    "print(bicycle.start())  "
   ]
  },
  {
   "cell_type": "markdown",
   "id": "17a8e9d0-42a0-41ad-a8c4-bdb18390b33b",
   "metadata": {},
   "source": [
    "## Multiple Inheritance"
   ]
  },
  {
   "cell_type": "markdown",
   "id": "6afb055e-c97d-45c7-a3ec-b2663b8dff66",
   "metadata": {},
   "source": [
    "##### Multiple inheritance allows a subclass to inherit from more than one superclass. This can be useful but may also lead to complexity, particularly with the diamond problem (ambiguities in method resolution)."
   ]
  },
  {
   "cell_type": "code",
   "execution_count": 199,
   "id": "2aaadcd0-aef9-4014-94c9-d8e52f172155",
   "metadata": {},
   "outputs": [
    {
     "name": "stdout",
     "output_type": "stream",
     "text": [
      "Child's skills: Gardening, Carpentry, Cooking, Painting, Sports\n"
     ]
    }
   ],
   "source": [
    "# Parent class 1\n",
    "class Father:\n",
    "    def skills(self):\n",
    "        return \"Gardening, Carpentry\"\n",
    "\n",
    "# Parent class 2\n",
    "class Mother:\n",
    "    def skills(self):\n",
    "        return \"Cooking, Painting\"\n",
    "\n",
    "# Child class\n",
    "class Child(Father, Mother):\n",
    "    def skills(self):\n",
    "        father_skills = Father.skills(self)\n",
    "        mother_skills = Mother.skills(self)\n",
    "        return f\"Child's skills: {father_skills}, {mother_skills}, Sports\"\n",
    "\n",
    "# Creating an instance of Child\n",
    "child = Child()\n",
    "\n",
    "# Calling the method\n",
    "print(child.skills())  # Output: Child's skills: Gardening, Carpentry, Cooking, Painting, Sports\n"
   ]
  },
  {
   "cell_type": "markdown",
   "id": "1ae7f458-0ed0-4991-8b38-e90bd1bd9d58",
   "metadata": {},
   "source": [
    "## Encapsulation and Data Hiding"
   ]
  },
  {
   "cell_type": "markdown",
   "id": "70a8c0d7-8ed5-44fa-97be-04d3016a8f33",
   "metadata": {},
   "source": [
    "##### Which is used to hide internal implementation details of an object. \n",
    "##### visibility is the mechanism for encapsulation. \n",
    "##### we can hide using private method. \n",
    "##### it can be accessed in the same class itself. \n",
    "##### Second advantage of encapsulation is you can make the class read only or write only by providing setter or getter method."
   ]
  },
  {
   "cell_type": "markdown",
   "id": "feae71da-8e22-47e6-ba15-dbfb2631e746",
   "metadata": {},
   "source": [
    "#### Data Hiding: By convention, attributes that are not meant to be accessed directly from outside the class can be prefixed with an underscore ( _ ) or double underscore ( __ )."
   ]
  },
  {
   "cell_type": "code",
   "execution_count": 211,
   "id": "d996dfbd-952e-4348-9105-79b5fd0dae77",
   "metadata": {},
   "outputs": [
    {
     "name": "stdout",
     "output_type": "stream",
     "text": [
      "Alice\n",
      "30\n",
      "35\n",
      "Age cannot be negative.\n"
     ]
    }
   ],
   "source": [
    "class Person:\n",
    "    def __init__(self, name, age):\n",
    "        self.name = name            # Public attribute\n",
    "        self.__age = age            # Private attribute\n",
    "\n",
    "    # Getter for age\n",
    "    def get_age(self):\n",
    "        return self.__age\n",
    "\n",
    "    # Setter for age\n",
    "    def set_age(self, new_age):\n",
    "        if new_age >= 0:\n",
    "            self.__age = new_age\n",
    "        else:\n",
    "            print(\"Age cannot be negative.\")\n",
    "\n",
    "# Creating an instance of Person\n",
    "person = Person(\"Alice\", 30)\n",
    "\n",
    "# Accessing public attribute\n",
    "print(person.name)               # Output: Alice\n",
    "\n",
    "# Accessing age via getter\n",
    "print(person.get_age())          # Output: 30\n",
    "\n",
    "# Modifying age via setter\n",
    "person.set_age(35)               # Valid update\n",
    "print(person.get_age())          # Output: 35\n",
    "\n",
    "person.set_age(-5)               # Invalid update; Output: Age cannot be negative.\n"
   ]
  },
  {
   "cell_type": "markdown",
   "id": "39f28926-95b7-4aa8-9c99-8121a9a6f822",
   "metadata": {},
   "source": [
    "#### Public Attribute: name can be accessed directly.\n",
    "#### Private Attribute: __age is hidden and accessed through getter and setter methods.\n",
    "####  Controlled Access: The setter method checks if the new age is valid before updating it."
   ]
  },
  {
   "cell_type": "markdown",
   "id": "c567f02f-de88-468e-9262-f0ad6ac37ddb",
   "metadata": {},
   "source": [
    "## Python Modules"
   ]
  },
  {
   "cell_type": "code",
   "execution_count": 221,
   "id": "553459bf-8b6e-4449-b782-8d13c51cf586",
   "metadata": {},
   "outputs": [
    {
     "name": "stdout",
     "output_type": "stream",
     "text": [
      "[1 2 3 5]\n"
     ]
    }
   ],
   "source": [
    "#using inbuild module\n",
    "import numpy as np\n",
    "myList = [1,2,3,5]\n",
    "myArray = np.array(myList)\n",
    "print(myArray)\n"
   ]
  },
  {
   "cell_type": "code",
   "execution_count": 223,
   "id": "baf4b815-b7e5-4fb3-9083-c4d339875a14",
   "metadata": {},
   "outputs": [
    {
     "name": "stdout",
     "output_type": "stream",
     "text": [
      "['_Processor', '_WIN32_CLIENT_RELEASES', '_WIN32_SERVER_RELEASES', '__builtins__', '__cached__', '__copyright__', '__doc__', '__file__', '__loader__', '__name__', '__package__', '__spec__', '__version__', '_comparable_version', '_default_architecture', '_follow_symlinks', '_get_machine_win32', '_java_getprop', '_mac_ver_xml', '_node', '_norm_version', '_os_release_cache', '_os_release_candidates', '_parse_os_release', '_platform', '_platform_cache', '_sys_version', '_sys_version_cache', '_syscmd_file', '_syscmd_ver', '_uname_cache', '_unknown_as_blank', '_ver_stages', '_win32_ver', '_wmi_query', 'architecture', 'collections', 'freedesktop_os_release', 'functools', 'itertools', 'java_ver', 'libc_ver', 'mac_ver', 'machine', 'node', 'os', 'platform', 'processor', 'python_branch', 'python_build', 'python_compiler', 'python_implementation', 'python_revision', 'python_version', 'python_version_tuple', 're', 'release', 'sys', 'system', 'system_alias', 'uname', 'uname_result', 'version', 'win32_edition', 'win32_is_iot', 'win32_ver']\n"
     ]
    }
   ],
   "source": [
    "#using dir\n",
    "import platform\n",
    "\n",
    "x = dir(platform)\n",
    "print(x)"
   ]
  },
  {
   "cell_type": "markdown",
   "id": "563da83c-f4ec-4f8d-839d-2964c5494cb9",
   "metadata": {},
   "source": [
    "## Python Dates"
   ]
  },
  {
   "cell_type": "markdown",
   "id": "1c56b489-326c-4909-a3bf-7da3c3e942ae",
   "metadata": {},
   "source": [
    "### Display current date time, day, year, month using date module"
   ]
  },
  {
   "cell_type": "code",
   "execution_count": 227,
   "id": "308afaad-a946-461f-bc40-2ac244e7ced6",
   "metadata": {},
   "outputs": [
    {
     "name": "stdout",
     "output_type": "stream",
     "text": [
      "2024-10-23 17:02:19.104806\n"
     ]
    }
   ],
   "source": [
    "import datetime\n",
    "currentDate = datetime.datetime.now()\n",
    "print(currentDate)"
   ]
  },
  {
   "cell_type": "code",
   "execution_count": 229,
   "id": "b8a1dbfd-3b5c-44a1-b265-472b55d06412",
   "metadata": {},
   "outputs": [
    {
     "name": "stdout",
     "output_type": "stream",
     "text": [
      "2024\n"
     ]
    }
   ],
   "source": [
    "print(currentDate.year)"
   ]
  },
  {
   "cell_type": "code",
   "execution_count": 231,
   "id": "df4c5c45-e0aa-43eb-8a91-690367dc2bdf",
   "metadata": {},
   "outputs": [
    {
     "name": "stdout",
     "output_type": "stream",
     "text": [
      "10\n"
     ]
    }
   ],
   "source": [
    "print(currentDate.month)"
   ]
  },
  {
   "cell_type": "code",
   "execution_count": 233,
   "id": "5bd28185-f59d-430a-8550-c907ebd4c863",
   "metadata": {},
   "outputs": [
    {
     "name": "stdout",
     "output_type": "stream",
     "text": [
      "23\n"
     ]
    }
   ],
   "source": [
    "print(currentDate.day)"
   ]
  },
  {
   "cell_type": "code",
   "execution_count": 239,
   "id": "a7774519-8591-45f8-b13d-5d81d79f3d01",
   "metadata": {},
   "outputs": [
    {
     "name": "stdout",
     "output_type": "stream",
     "text": [
      "2024-10-23 17:02:19.104806\n"
     ]
    }
   ],
   "source": [
    "print(currentDate)"
   ]
  },
  {
   "cell_type": "markdown",
   "id": "4977557b-ee2b-420d-ba9d-cd2bda923d72",
   "metadata": {},
   "source": [
    "### create date object"
   ]
  },
  {
   "cell_type": "code",
   "execution_count": 243,
   "id": "a40cd68b-33ce-42d1-90ab-17131547e0fc",
   "metadata": {},
   "outputs": [
    {
     "name": "stdout",
     "output_type": "stream",
     "text": [
      "2020-05-17 00:00:00\n"
     ]
    }
   ],
   "source": [
    "import datetime\n",
    "\n",
    "x = datetime.datetime(2020, 5, 17)\n",
    "\n",
    "print(x)\n"
   ]
  },
  {
   "cell_type": "markdown",
   "id": "3b23401a-f6c7-42a3-87c1-f49b5c72bdd5",
   "metadata": {},
   "source": [
    "### Display month from date"
   ]
  },
  {
   "cell_type": "code",
   "execution_count": 246,
   "id": "fe1fc871-3ebb-4bee-ac70-bbcdcf563d26",
   "metadata": {},
   "outputs": [
    {
     "name": "stdout",
     "output_type": "stream",
     "text": [
      "October\n"
     ]
    }
   ],
   "source": [
    "import datetime\n",
    "\n",
    "x = datetime.datetime(2024, 10, 1)\n",
    "\n",
    "print(x.strftime(\"%B\"))\n"
   ]
  },
  {
   "cell_type": "markdown",
   "id": "a2385fef-6dd7-4846-8636-68fb72672620",
   "metadata": {},
   "source": [
    "## Python Math"
   ]
  },
  {
   "cell_type": "code",
   "execution_count": 251,
   "id": "16a47f5c-3734-44ab-bf6b-f0c0a2fa5908",
   "metadata": {},
   "outputs": [
    {
     "name": "stdout",
     "output_type": "stream",
     "text": [
      "10\n",
      "52\n"
     ]
    }
   ],
   "source": [
    "x = min(51, 10, 25)\n",
    "y = max(52, 10, 25)\n",
    "\n",
    "print(x)\n",
    "print(y)\n"
   ]
  },
  {
   "cell_type": "markdown",
   "id": "7b75c4ae-2173-4d23-8048-d7fe68941cd1",
   "metadata": {},
   "source": [
    "#### Return absolute value of number"
   ]
  },
  {
   "cell_type": "code",
   "execution_count": 254,
   "id": "97b96b26-506d-4ff5-9f77-56078f2fecea",
   "metadata": {},
   "outputs": [
    {
     "name": "stdout",
     "output_type": "stream",
     "text": [
      "8373\n"
     ]
    }
   ],
   "source": [
    "x = -8373\n",
    "print(abs(x))"
   ]
  },
  {
   "cell_type": "markdown",
   "id": "660cf6b7-28f8-443b-9014-8213942eb4ac",
   "metadata": {},
   "source": [
    "#### Return the value x to the power of (x^y)"
   ]
  },
  {
   "cell_type": "code",
   "execution_count": 257,
   "id": "7267654e-487d-49f9-ad8a-3f8236fd51e3",
   "metadata": {},
   "outputs": [
    {
     "name": "stdout",
     "output_type": "stream",
     "text": [
      "16\n"
     ]
    }
   ],
   "source": [
    "x = pow(4,2) \n",
    "#4 will squared \n",
    "print(x)"
   ]
  },
  {
   "cell_type": "markdown",
   "id": "8db310b5-13d0-4127-9f5c-6e69ee30f27c",
   "metadata": {},
   "source": [
    "#### find the square root of the given number"
   ]
  },
  {
   "cell_type": "code",
   "execution_count": 260,
   "id": "f23095e8-2497-40fc-bf5e-4ea58dd79b6a",
   "metadata": {},
   "outputs": [
    {
     "name": "stdout",
     "output_type": "stream",
     "text": [
      "9.0\n"
     ]
    }
   ],
   "source": [
    "import math\n",
    "x = math.sqrt(81)\n",
    "print(x)"
   ]
  },
  {
   "cell_type": "markdown",
   "id": "e1bd4aae-5c09-4e4e-b5a3-905f9b79837f",
   "metadata": {},
   "source": [
    "#### Round a number upward to its nearest integer\n",
    "#### Round a number downward to its nearest integer"
   ]
  },
  {
   "cell_type": "code",
   "execution_count": 264,
   "id": "acc45892-4795-4d84-a464-90688b2018c9",
   "metadata": {},
   "outputs": [
    {
     "name": "stdout",
     "output_type": "stream",
     "text": [
      "2\n",
      "1\n"
     ]
    }
   ],
   "source": [
    "#Import math library\n",
    "import math\n",
    "\n",
    "#Round a number upward to its nearest integer\n",
    "x = math.ceil(1.4)\n",
    "\n",
    "#Round a number downward to its nearest integer\n",
    "y = math.floor(1.4)\n",
    "\n",
    "print(x)\n",
    "print(y)\n"
   ]
  },
  {
   "cell_type": "markdown",
   "id": "425e4b1d-d7e8-4a9e-aad4-163bb6291667",
   "metadata": {},
   "source": [
    "#### Return the value of pi"
   ]
  },
  {
   "cell_type": "code",
   "execution_count": 267,
   "id": "aba47637-ae18-4032-85d0-8339a721170a",
   "metadata": {},
   "outputs": [
    {
     "name": "stdout",
     "output_type": "stream",
     "text": [
      "3.141592653589793\n"
     ]
    }
   ],
   "source": [
    "import math\n",
    "\n",
    "x = math.pi\n",
    "\n",
    "print(x)\n"
   ]
  },
  {
   "cell_type": "markdown",
   "id": "fc8aa101-a094-416f-a30e-257b69361113",
   "metadata": {},
   "source": [
    "## Python JSON"
   ]
  },
  {
   "cell_type": "code",
   "execution_count": 270,
   "id": "dc60cd6c-7b20-4b24-9255-d41babaa902f",
   "metadata": {},
   "outputs": [
    {
     "name": "stdout",
     "output_type": "stream",
     "text": [
      "30\n"
     ]
    }
   ],
   "source": [
    "import json\n",
    "\n",
    "# some JSON:\n",
    "x = '{ \"name\":\"John\", \"age\":30, \"city\":\"New York\"}'\n",
    "\n",
    "# parse x:\n",
    "y = json.loads(x)\n",
    "\n",
    "# the result is a Python dictionary:\n",
    "print(y[\"age\"])\n"
   ]
  },
  {
   "cell_type": "markdown",
   "id": "543fcc67-2dd7-4e58-9efb-ea493d20f2d9",
   "metadata": {},
   "source": [
    "#### convert from python dict to json"
   ]
  },
  {
   "cell_type": "code",
   "execution_count": 275,
   "id": "750b407f-cc30-4a53-b89a-cbd48ff1da50",
   "metadata": {},
   "outputs": [
    {
     "name": "stdout",
     "output_type": "stream",
     "text": [
      "30\n",
      "{ \"name\":\"John\", \"age\":30, \"city\":\"New York\"}\n"
     ]
    }
   ],
   "source": [
    "import json\n",
    "\n",
    "# some JSON:\n",
    "x = '{ \"name\":\"John\", \"age\":30, \"city\":\"New York\"}'\n",
    "\n",
    "# parse x:\n",
    "y = json.loads(x)\n",
    "\n",
    "# the result is a Python dictionary:\n",
    "print(y[\"age\"])\n",
    "print(x)\n"
   ]
  },
  {
   "cell_type": "markdown",
   "id": "7377efa3-d2cc-4652-b62d-213bf63d8d61",
   "metadata": {},
   "source": [
    "## Python Try Except"
   ]
  },
  {
   "cell_type": "markdown",
   "id": "c35232fb-6807-430b-8284-38f551d18366",
   "metadata": {},
   "source": [
    "#### which is used to handle the error. the program continues to run smoothly, even when unexpected events occur.  It involves using specific constructs to catch and manage errors, preventing the program from crashing."
   ]
  },
  {
   "cell_type": "markdown",
   "id": "4fda0c08-d510-4785-b24b-21ed06046575",
   "metadata": {},
   "source": [
    "#### try, except, finally Blocks: "
   ]
  },
  {
   "cell_type": "markdown",
   "id": "426d0d23-3aca-4425-8ab2-0c34b7a5c5e5",
   "metadata": {},
   "source": [
    "#### try block: This block contains code that might raise an exception. If an error occurs, Python immediately jumps to the corresponding except block."
   ]
  },
  {
   "cell_type": "markdown",
   "id": "20cf515a-1edf-45b9-8fcc-d8c6f484c151",
   "metadata": {},
   "source": [
    "#### except block: This block handles the exception that occurs in the try block. You can specify different except blocks for different types of exceptions."
   ]
  },
  {
   "cell_type": "markdown",
   "id": "c7416752-405b-4be9-b9e0-8da6a917c00d",
   "metadata": {},
   "source": [
    "#### finally block: This block contains code that will execute no matter what, whether an exception occurs or not. It’s often used for cleanup actions, like closing files or releasing resources."
   ]
  },
  {
   "cell_type": "code",
   "execution_count": 289,
   "id": "d7dfd3df-7166-41da-81d3-9da4a7a656ac",
   "metadata": {},
   "outputs": [
    {
     "name": "stdout",
     "output_type": "stream",
     "text": [
      "An exception occurred\n"
     ]
    }
   ],
   "source": [
    "try:\n",
    "  print(xc)\n",
    "except:\n",
    "  print(\"An exception occurred\")\n",
    "#The try block will generate a NameError, because x is not defined:"
   ]
  },
  {
   "cell_type": "markdown",
   "id": "d00b08e4-1539-4f78-b5e8-eb671ea1311f",
   "metadata": {},
   "source": [
    "#### Handling Multiple Exceptions"
   ]
  },
  {
   "cell_type": "code",
   "execution_count": 292,
   "id": "3b6c71ca-ed33-4ab7-b760-8b9e2ae38e83",
   "metadata": {},
   "outputs": [
    {
     "name": "stdin",
     "output_type": "stream",
     "text": [
      "Enter a number:  l\n"
     ]
    },
    {
     "name": "stdout",
     "output_type": "stream",
     "text": [
      "Invalid input! Please enter a valid number.\n"
     ]
    }
   ],
   "source": [
    "try:\n",
    "    num = int(input(\"Enter a number: \"))\n",
    "    result = 10 / num\n",
    "except ValueError:\n",
    "    print(\"Invalid input! Please enter a valid number.\")\n",
    "except ZeroDivisionError:\n",
    "    print(\"Cannot divide by zero.\")"
   ]
  },
  {
   "cell_type": "markdown",
   "id": "22aaa819-5d3e-4ba0-acda-1943eaa8d393",
   "metadata": {},
   "source": [
    "#### The try block does not raise any errors, so the else block is executed"
   ]
  },
  {
   "cell_type": "code",
   "execution_count": 295,
   "id": "c6427ee3-7714-4b41-9ae9-91bac539ce30",
   "metadata": {},
   "outputs": [
    {
     "name": "stdout",
     "output_type": "stream",
     "text": [
      "Hello\n",
      "Nothing went wrong\n"
     ]
    }
   ],
   "source": [
    "try:\n",
    "  print(\"Hello\")\n",
    "except:\n",
    "  print(\"Something went wrong\")\n",
    "else:\n",
    "  print(\"Nothing went wrong\")\n"
   ]
  },
  {
   "cell_type": "markdown",
   "id": "21eb8878-94cb-4ae7-b50d-6a18585119b0",
   "metadata": {},
   "source": [
    "#### Handling Multiple Exceptions in a Single Block"
   ]
  },
  {
   "cell_type": "code",
   "execution_count": 300,
   "id": "6ff44d88-a986-4112-9758-b12c3bb76844",
   "metadata": {},
   "outputs": [
    {
     "name": "stdin",
     "output_type": "stream",
     "text": [
      "Enter a number:  ss\n"
     ]
    },
    {
     "name": "stdout",
     "output_type": "stream",
     "text": [
      "An error occurred: invalid literal for int() with base 10: 'ss'\n"
     ]
    }
   ],
   "source": [
    "try:\n",
    "    number = int(input(\"Enter a number: \"))\n",
    "    result = 10 / number\n",
    "except (ValueError, ZeroDivisionError) as e:\n",
    "    print(f\"An error occurred: {e}\")"
   ]
  },
  {
   "cell_type": "markdown",
   "id": "2e2a0d92-6a6c-4534-863c-463d41e1b4b5",
   "metadata": {},
   "source": [
    "#### Raising Exceptions Manually (raise)"
   ]
  },
  {
   "cell_type": "markdown",
   "id": "f614c2f5-400d-4934-b59b-9a92ae7525e9",
   "metadata": {},
   "source": [
    "##### Python allows you to raise exceptions manually using the raise keyword. This is useful when you want to enforce specific conditions or create custom error messages."
   ]
  },
  {
   "cell_type": "code",
   "execution_count": 304,
   "id": "d5338a29-7b70-4f59-9448-f7b8e773ebd8",
   "metadata": {},
   "outputs": [
    {
     "name": "stdout",
     "output_type": "stream",
     "text": [
      "Error: Age must be 18 or older.\n"
     ]
    }
   ],
   "source": [
    "def check_age(age):\n",
    "    if age < 18:\n",
    "        raise ValueError(\"Age must be 18 or older.\")\n",
    "    return \"Access granted.\"\n",
    "\n",
    "try:\n",
    "    print(check_age(16))\n",
    "except ValueError as e:\n",
    "    print(f\"Error: {e}\")"
   ]
  },
  {
   "cell_type": "markdown",
   "id": "1829809f-48d0-47a4-9a66-0b28e119b28c",
   "metadata": {},
   "source": [
    "#### Custom Exceptions"
   ]
  },
  {
   "cell_type": "markdown",
   "id": "a1dfd5ad-a70c-4e78-9521-0e9a5ea30089",
   "metadata": {},
   "source": [
    "#### You can create custom exception classes in Python by inheriting from the built-in Exception class. Custom exceptions are useful for defining your own error conditions that are specific to your application."
   ]
  },
  {
   "cell_type": "code",
   "execution_count": 308,
   "id": "909be084-cc3d-4a68-b3e0-41ee6b67f1ef",
   "metadata": {},
   "outputs": [
    {
     "name": "stdout",
     "output_type": "stream",
     "text": [
      "Negative numbers are not allowed: -9\n"
     ]
    }
   ],
   "source": [
    "class NegativeNumberError(Exception):\n",
    "    \"\"\"Custom exception for negative numbers.\"\"\"\n",
    "    def __init__(self, number):\n",
    "        self.number = number\n",
    "        super().__init__(f\"Negative numbers are not allowed: {number}\")\n",
    "\n",
    "def square_root(number):\n",
    "    if number < 0:\n",
    "        raise NegativeNumberError(number)\n",
    "    else:\n",
    "        return number ** 0.5\n",
    "\n",
    "try:\n",
    "    print(square_root(-9))\n",
    "except NegativeNumberError as e:\n",
    "    print(e)"
   ]
  },
  {
   "cell_type": "markdown",
   "id": "6ca8d17b-a18b-4f21-9a7e-3b2218d86d38",
   "metadata": {},
   "source": [
    "## Numpy"
   ]
  },
  {
   "cell_type": "code",
   "execution_count": 2,
   "id": "1515e4e7-ae68-42ae-91f8-3e9942c6cd8b",
   "metadata": {},
   "outputs": [
    {
     "name": "stdout",
     "output_type": "stream",
     "text": [
      "[1 2 3 5]\n",
      "(4,)\n"
     ]
    }
   ],
   "source": [
    "import numpy as np\n",
    "myList = [1,2,3,5]\n",
    "myArray = np.array(myList)\n",
    "print(myArray)\n",
    "print(myArray.shape)"
   ]
  },
  {
   "cell_type": "code",
   "execution_count": 4,
   "id": "a5c87df1-30c3-47d3-af2e-e5537cebc25a",
   "metadata": {},
   "outputs": [
    {
     "name": "stdout",
     "output_type": "stream",
     "text": [
      "[[1 2 4]\n",
      " [2 4 6]]\n",
      "<class 'numpy.ndarray'>\n",
      "first row [1 2 4]\n",
      "Last row [2 4 6]\n",
      "whole row [4 6]\n"
     ]
    }
   ],
   "source": [
    "import numpy as np\n",
    "myList = [[1,2,4], [2,4,6]]\n",
    "myArray = np.array(myList)\n",
    "print(myArray)\n",
    "print(type(myArray))\n",
    "print(\"first row\",myArray[0])\n",
    "print(\"Last row\",myArray[-1])\n",
    "print(\"whole row\", myArray[:,2])"
   ]
  },
  {
   "cell_type": "markdown",
   "id": "b71d505a-b1bd-4bfa-b7ef-a3a991e81db5",
   "metadata": {},
   "source": [
    "## Pandas \n",
    "Pandas library used to analyze the data.\n",
    "Pandas provides data structures and functionality to quickly manipulate and analyse the data.\n",
    "The key to understanding pandas for Machine learning is understanding the series and DataFrames and data statistics\n"
   ]
  },
  {
   "cell_type": "markdown",
   "id": "7327e8d3-9f53-4145-a520-e77840882360",
   "metadata": {},
   "source": [
    "#### Series:\n",
    "A series is one dimensional array where the rows and columns can be labled.\n"
   ]
  },
  {
   "cell_type": "code",
   "execution_count": 6,
   "id": "f53b4fe0-dd53-478f-b434-8149d3f63d8d",
   "metadata": {},
   "outputs": [
    {
     "name": "stdout",
     "output_type": "stream",
     "text": [
      "My series: a    1\n",
      "b    2\n",
      "c    5\n",
      "dtype: int64\n"
     ]
    }
   ],
   "source": [
    "import numpy as np\n",
    "import pandas as pd\n",
    "myListVal = [1,2,5]\n",
    "myArrayVal = np.array(myListVal)\n",
    "rowNames = ['a','b','c']\n",
    "mySeries = pd.Series(myArrayVal, index=rowNames)\n",
    "print(\"My series:\",mySeries)"
   ]
  },
  {
   "cell_type": "markdown",
   "id": "2092df70-58ad-4dbf-9edc-690315d8a8c2",
   "metadata": {},
   "source": [
    "## Numpy Arithmetic operations"
   ]
  },
  {
   "cell_type": "code",
   "execution_count": 10,
   "id": "a450bc56-08b3-4640-a88e-9f7b95d3ee54",
   "metadata": {},
   "outputs": [
    {
     "name": "stdout",
     "output_type": "stream",
     "text": [
      "addition: [5 5 5]\n",
      "multiplication: [6 6 6]\n"
     ]
    }
   ],
   "source": [
    "import numpy as np\n",
    "myList1 = [2,2,2]\n",
    "myArray1 = np.array(myList1)\n",
    "myList2 = [3,3,3]\n",
    "myArray2 = np.array(myList2)\n",
    "print(\"addition:\", myArray1 + myArray2)\n",
    "print(\"multiplication:\", myArray1 * myArray2)\n"
   ]
  },
  {
   "cell_type": "markdown",
   "id": "e154e07f-6733-4a48-97fa-097b802fd1b4",
   "metadata": {},
   "source": [
    "## Pandas DataFrame"
   ]
  },
  {
   "cell_type": "markdown",
   "id": "2062a147-4a35-44e8-ace4-cc309d60466f",
   "metadata": {},
   "source": [
    "#### Dataframe:\n",
    "A dataframe is a multi-dimensional array where the rows and columns can be labled."
   ]
  },
  {
   "cell_type": "code",
   "execution_count": 8,
   "id": "a2456042-e6af-495f-9b94-a3a4cb8f5a23",
   "metadata": {},
   "outputs": [
    {
     "name": "stdout",
     "output_type": "stream",
     "text": [
      "My Dataframe:    one  two  three\n",
      "a    1    2      5\n",
      "b    4   67      3\n",
      "df one:  a    1\n",
      "b    4\n",
      "Name: one, dtype: int64\n",
      "df two:  a     2\n",
      "b    67\n",
      "Name: two, dtype: int64\n",
      "df one1:  a    1\n",
      "b    4\n",
      "Name: one, dtype: int64\n",
      "df two2:  a     2\n",
      "b    67\n",
      "Name: two, dtype: int64\n"
     ]
    }
   ],
   "source": [
    "import numpy as np\n",
    "import pandas as pd\n",
    "from streamlit import columns\n",
    "\n",
    "myListVal = [[1,2,5], [4,67,3]]\n",
    "myArrayVal = np.array(myListVal)\n",
    "rowNames = ['a','b']\n",
    "colNames = ['one','two','three']\n",
    "mydf = pd.DataFrame(myArrayVal, index=rowNames, columns=colNames)\n",
    "print(\"My Dataframe:\",mydf)\n",
    "\n",
    "#index using column names\n",
    "dataframe1 = mydf['one']\n",
    "dataframe2 = mydf['two']\n",
    "dataframe11 = mydf.one\n",
    "dataframe22 = mydf.two\n",
    "print(\"df one: \",dataframe1)\n",
    "print(\"df two: \",dataframe2)\n",
    "\n",
    "print(\"df one1: \",dataframe11)\n",
    "print(\"df two2: \",dataframe22)"
   ]
  },
  {
   "cell_type": "code",
   "execution_count": null,
   "id": "23f756c3-6cb6-4236-88ec-bcbcd3fde595",
   "metadata": {},
   "outputs": [],
   "source": []
  },
  {
   "cell_type": "code",
   "execution_count": null,
   "id": "6290ad0c-fe11-4698-9fa1-7b149e9011c5",
   "metadata": {},
   "outputs": [],
   "source": []
  }
 ],
 "metadata": {
  "kernelspec": {
   "display_name": "Python 3 (ipykernel)",
   "language": "python",
   "name": "python3"
  },
  "language_info": {
   "codemirror_mode": {
    "name": "ipython",
    "version": 3
   },
   "file_extension": ".py",
   "mimetype": "text/x-python",
   "name": "python",
   "nbconvert_exporter": "python",
   "pygments_lexer": "ipython3",
   "version": "3.12.4"
  }
 },
 "nbformat": 4,
 "nbformat_minor": 5
}
