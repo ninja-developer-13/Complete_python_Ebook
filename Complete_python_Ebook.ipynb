# Python Examples
## 1.Python Syntax
### 1.1.Print Hello World
print("Hello World")
### 1.2.Comments in Python
#this is single comment in python
### 1.3 Docstrings in python
""" 
this is python """
print("Hello world")
## 2.Python Variables
### 2.1 Create a variable and output variable
x = 10
y = 20
z = x+y
print("The sum of x and y is:",z)
## 3.Python Numbers
### 3.1 Verify the type of an object
x = 10
y = "praba"
z = True
a = 11.2
b = 12E4
c = 12e3
print("x's type:", type(x))
print("y's type:", type(y))
print("z's type:", type(z))
print("a's type:", type(a))
print("b's type:", type(b))
print("c's type:", type(c))
### 3.2. Complex numbers
x = 5j
y = 2+8j
z = -4j
print(type(x))
print(type(y))
print(type(z))

### 3.3 Casting 
x = int(2.1)
y = str(1111)
z = float('11')
print(x)
print(y)
print(z)
print(type(x))
print(type(y))
print(type(z))
## 4. Python Strings
#### Get the character at position 1 of a string
myStr = 'prabakaran'
print(myStr[1])
#1 st index is r
#### Substring get the characters from position 2 to 5
print(myStr[2:5])
#### Remove the whitespace from the string
myStr = """        
hello how are you                """
print(myStr.strip())
#### Return length of the string
print(len(myStr))
#with space every space considered character
print(len(myStr.strip()))
#after removing space
#### connvert string to upper and lower
myStr = "Reference site about Lorem Ipsum, giving in"
print(myStr.lower())
print(myStr.upper())
print(myStr.capitalize())
#### Replace string with another string
a = "Hello, World!"
print(a.replace("H", "J"))

#### Split strings into substrings
a = "Hello, World!"
b = a.split(",")
print(b)

## 5. Python Operators
a = 1111
b = 12
#addition +
print(a+b)

#subtraction -
print(a-b)

#multiplication *
print(a*b)

#divison /
print(a/b)

#floor division //
print(a//b)

#modulous %
print(a%b)

#assignment =
x = 5
print(x)


## 6. Python Lists
#### Create a List and access list
myList = [1,2,3,4,4,4]
print(myList)
print(myList[1])
### Change the value of list
myList[1] = 112121
print(myList)
#### Loop through the list
for i in myList:
    print(i)
#### check if a list item exist
if 1 in myList:
    print("1 exists in the list")
#### length of List
print(len(myList))
#### add an item at the end of the list
#### its surrounded by []
Lists are mutable. it means once its created it can be modified. ordered, allowed duplicate values. allowed all types values.
myList.append(12121212)
print(myList)
#### add an item at the specific place of the list
myList.insert(3, 1043)
print(myList)
#### remove an item from the list
thislist = ["apple", "banana", "cherry"]
thislist.remove("apple")
thislist.insert(1, "mango")
print(thislist)
#### Remove the last item from the list
thislist.pop()
print(thislist)
#### remove the specified index
del thislist[0]
print(thislist)
#### How to empty a List
thislist.clear()
myList.clear()
print(myList)
print(thislist)
#### Prepare a new list using list() constructor
myList = list(("apple", "ball", "kiwi", "jackfruit", 1, 2, True, False, 5j, -1, 12E4, 32e4, 2+8j, -98j))
print(myList)
print(len(myList))
## 7.Python Tuples
#### create a tuple and access tuple get length of tuple
#### Its surrounded by ()
Tuples are immutable. it means once its created it cannot be modified. ordered, allowed duplicate values. allowed all types values.
myTuple = (1,2,3,4,5,6,7,8, "apple", True, False, 5j, -1, 12E4, 32e4, 2+8j, -98j, [1,2,3], {"name":"praba"}, (12,24))
print(myTuple)
print(len(myTuple))
#### Change the tuple values   'tuple' object does not support item assignment
myTuple[1] = 12121212
print(myTuple)
#'tuple' object does not support item assignment
#### how to loop through tuple 
for i in myTuple:
    print(i)
#### how to check if a tuple exists
if "apple" in myTuple:
    print("exists")
#### length of tuple 
print(len(myTuple))
#### Delete a tuple
del myTuple
print(myTuple)
#### Create a new tuple using tuple() constructor
myTuple = ("praba", "karan", "amma", "praga", "dhana", "appa", "kutty")
print(myTuple)
#### Remove last element from tuple
#### We can Convert to list, remove last element, convert back to tuple
myTuple = tuple(list(myTuple)[:-1])
print(myTuple)
## 8.Python Sets
#### Sets are surrounded by "{ }"
#### Set is a collection which is unordered, unchangeable*, and unindexed. No duplicate members.
#### Create a set and access set
mySet = {"ab", "bc","cd", "hello", 1,2,3,-1,True,False,12E4, -9j}
print(mySet)
#### Loop through a set
for i in mySet:
    print(i)
#### check if item exists in set
if 'ab' in mySet:
    print("exists")
#### Add item to set and get the length of set
mySet.add("hello")
print(mySet)
#this will not allow duplicates. it will display only one hello.
#### Add multiple items to set
mySet.update(["orange", "mango", "grapes"])
print(mySet)
print(len(mySet))
#### Remove item from set
#### Sets can be removed by using these methods remove('add specific index'), discard('add specific index'), pop() => remove last item
mySet.remove("ab")
print(mySet)
mySet.pop()
print(mySet)
mySet.discard("cd")
print(mySet)
#### Empty a set using clear method
mySet.clear()
print(mySet)
mySet.update(["orange", "mango", "grapes"])
print(mySet)
#### Delete a set
print("before delete", mySet)
del mySet
print(mySet)
#### Make a new set using set() constructor
f = 1
g = 2
h = 3
mySet = set((f,g,h))
print(mySet)
## Python Dictionaries
#### 9. Create Dictionaries and access Dictionaries
#### Dictionaries will be key and value pair. surrounded by { } 
#### Dictionary is a collection which is ordered** and changeable. No duplicate members.
myDict = {
    "name": "praba",
    "age":32,
    "place":"bangalore"
}
print(myDict)
#### change the value of specific item in dict
myDict['place'] = 'chennai'
print(myDict)
#### print all keys from dict
print(myDict.keys())
#without inbuilt function
for i in myDict:
    print(i)
#### Print all values from dict
print(myDict.values())
#without inbuilt function
for i in myDict:
    print(myDict[i])
#### Using items
for x,y in myDict.items():
    print(x,"=>",y)
#### Check if key is exists
if 'name' in myDict:
    print("exists")
#### Length of Dictionary
print(len(myDict))
#### Add item to Dictionary
myDict["state"] = "Tamilnadu"
print(myDict)
#### Remove item from Dictionary
myDict.pop('name')
print(myDict)
#### How to empty dictionary
myDict.clear()
print(myDict)
#### Create a new dictionary using dict() constructor
myDict = dict(name="praba", country="india", age=33, pincode="560303")
print(myDict)
## If statement
#### If elif else
a = 10
b = 12
c = 14
if a>b and b>c:
    largest = a
elif b>a and b>c:
    largest = b
else:
    largest = c
print(largest)
#### Shorthand If elif else
print('A is larger' if a > b and a > c else 'B is larger' if b > a and b > c else 'C is larger')

a = 200
b = 33
c = 500
if a > b or a > c:
  print("At least one of the conditions is True")

## Python While Loop
i = 1
while i < 5:
    print(i)
    i += 1
#### Use break statement in while. Basically break will terminate the execution of while loop
i = 1
while i < 5:
  print(i)
  if (i == 3):
    break
  i += 1

#### Use continue statement in while. Basically continue will skip the current  the iteration of while loop
i = 0
while i < 5:
  i += 1
  if i == 3:
    continue
  print(i)
#### Using Python for Loop through List
myList = ["apple", "banana", "kiwi"]
for i in myList:
    print(i)
#### Using Python for Loop through string
myStr = "prabakaran is my first name"
for i in myStr:
    print(i)
#### Use break statement in for loop
for i in myStr:
    if i == 'a':
        break
    print(i)
    
for i in myStr:
    if i == 'a':
        continue
    print(i)
#### Range in for loop
for i in range(1,21):
    print("Multiplication of 2nd table:",i,"*2=",i*2)
#### Nested loop in python
adj = ["red", "big", "tasty"]
fruits = ["apple", "banana", "cherry"]

for x in adj:
  for y in fruits:
    print(x, y)
## Python Functions
#### Create and call a function with different parameters
def myFunction(a,b,c,d):
    print(a,b,c,d)
myFunction([1,2], (11,12), {'name':'praba', 'age':32}, {12E3, 'ab', 'bc','cd'})

#### Default Parameter
def my_function(state = "TamilNadu"):
  print("I am from " + state)

my_function("Karnataka")
my_function("Andhra")
my_function()
my_function("Kerala")

#### Rerurn value in a function
def my_function(x):
  return 5 * x

print(my_function(3))
print(my_function(5))
print(my_function(9))

#### using recursion function
def factorial(n):
    # Base case: if n is 0 or 1, return 1
    if n == 0 or n == 1:
        return 1
    else:
        # Recursive case: n * factorial of (n-1)
        return n * factorial(n - 1)

# Example usage
print(factorial(5))  # Output: 120

## Python Lambda
#### A lambda function is a small anonymous function. A lambda function can take any number of arguments, but can only have one expression.
#### Perform addition, subtraction and multiplication using lambda function
a = lambda x,y: x+y
print(a(10,14))

b = lambda x,y: x-y
print(b(10,14))

c = lambda x,y: x*y
print(c(10,14))
## Python Arrays
#### Create an array and access get lenth of an array
myArray = ["praba", "karan", "praga", "vara"]
print(len(myArray))
print(myArray)
#### Loop through an array
for i in myArray:
    print(i)
#### Add an element in an array
myArray.append('dhanam')
print(myArray)
#### Remove element from an array
myArray.pop(1)
print(myArray)
## Python Classes and Objects
#### Create a class and create an object
inputVal = input("Enter any value: ")
class MyClass:
    def __init__(self, arg):
        self.arg = arg
    def getData(self):
        return self.arg
myObj = MyClass(inputVal)
print("You have entered: ", myObj.getData())
#### modify the object property

inputVal = input("Enter any value: ")
class MyClass:
    def __init__(self, arg):
        self.arg = arg
    def getData(self):
        return self.arg
myObj = MyClass(inputVal)
myObj.arg = "you cant change any value since I am modified"
print("You have entered: ", myObj.getData())
#### delete the object property

inputVal = input("Enter any value: ")
class MyClass:
    def __init__(self, arg):
        self.arg = arg
    def getData(self):
        return self.arg
myObj = MyClass(inputVal)
myObj.arg = "you cant change any value since I am modified"
print("before deleting object: ", myObj.getData())
del myObj.arg
print("You have entered: ", myObj.getData())
#'MyClass' object has no attribute 'arg' because the object is no more.
#### Delete whole object from class
inputVal = input("Enter any value: ")
class MyClass:
    def __init__(self, arg):
        self.arg = arg
    def getData(self):
        return self.arg
myObj = MyClass(inputVal)
myObj.arg = "you cant change any value since I am modified"
print("before deleting object: ", myObj.getData())
del myObj
print("You have entered: ", myObj.getData())
#'MyClass' object has no attribute 'arg' because the object is no more.
#### Inheritance 
##### Inheritance allows a class (called a subclass or derived class) to inherit attributes and methods from another class (called a superclass or base class). This promotes code reuse and establishes a relationship between classes.
# Parent class
class Animal:
    def __init__(self, name):
        self.name = name
    
    def speak(self):
        return f"{self.name} makes a sound."

# Child class
class Dog(Animal):
    def speak(self):
        return f"{self.name} barks."

# Child class
class Cat(Animal):
    def speak(self):
        return f"{self.name} meows."

# Creating instances
dog = Dog("Subramani naai kutty")
cat = Cat("Kanmani poona kutty")

# Calling methods
print(dog.speak())  # Output: Rex barks.
print(cat.speak())  # Output: Whiskers meows.

## Polymorphism also knon as Method Overriding 
##### Method overriding allows a subclass to provide a specific implementation of a method that is already defined in its superclass. This is useful for modifying or extending the behavior of inherited methods. This will have same methods with same number of parameters
#### Polymorphism allows objects of different classes to be treated as objects of a common superclass. It enables method overriding, allowing the same method name to have different implementations based on the object’s class. Method Overriding

# Parent class
class Vehicle:
    def start(self):
        return "The vehicle is starting."

# Child class
class Car(Vehicle):
    def start(self):
        return "The car is starting with a roar!"

# Child class
class Bicycle(Vehicle):
    def start(self):
        return "The bicycle is starting quietly."

# Creating instances
car = Car()
bicycle = Bicycle()

# Calling methods
print(car.start())      
print(bicycle.start())  
## Multiple Inheritance
##### Multiple inheritance allows a subclass to inherit from more than one superclass. This can be useful but may also lead to complexity, particularly with the diamond problem (ambiguities in method resolution).
# Parent class 1
class Father:
    def skills(self):
        return "Gardening, Carpentry"

# Parent class 2
class Mother:
    def skills(self):
        return "Cooking, Painting"

# Child class
class Child(Father, Mother):
    def skills(self):
        father_skills = Father.skills(self)
        mother_skills = Mother.skills(self)
        return f"Child's skills: {father_skills}, {mother_skills}, Sports"

# Creating an instance of Child
child = Child()

# Calling the method
print(child.skills())  # Output: Child's skills: Gardening, Carpentry, Cooking, Painting, Sports

## Encapsulation and Data Hiding
##### Which is used to hide internal implementation details of an object. 
##### visibility is the mechanism for encapsulation. 
##### we can hide using private method. 
##### it can be accessed in the same class itself. 
##### Second advantage of encapsulation is you can make the class read only or write only by providing setter or getter method.
#### Data Hiding: By convention, attributes that are not meant to be accessed directly from outside the class can be prefixed with an underscore ( _ ) or double underscore ( __ ).
class Person:
    def __init__(self, name, age):
        self.name = name            # Public attribute
        self.__age = age            # Private attribute

    # Getter for age
    def get_age(self):
        return self.__age

    # Setter for age
    def set_age(self, new_age):
        if new_age >= 0:
            self.__age = new_age
        else:
            print("Age cannot be negative.")

# Creating an instance of Person
person = Person("Alice", 30)

# Accessing public attribute
print(person.name)               # Output: Alice

# Accessing age via getter
print(person.get_age())          # Output: 30

# Modifying age via setter
person.set_age(35)               # Valid update
print(person.get_age())          # Output: 35

person.set_age(-5)               # Invalid update; Output: Age cannot be negative.

#### Public Attribute: name can be accessed directly.
#### Private Attribute: __age is hidden and accessed through getter and setter methods.
####  Controlled Access: The setter method checks if the new age is valid before updating it.
## Python Modules
#using inbuild module
import numpy as np
myList = [1,2,3,5]
myArray = np.array(myList)
print(myArray)

#using dir
import platform

x = dir(platform)
print(x)
import from nump
